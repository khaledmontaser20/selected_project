{
 "cells": [
  {
   "cell_type": "markdown",
   "id": "5103e97a",
   "metadata": {},
   "source": [
    "<h3>Here I'm doing the preprocessing operations (is Regression) </h3>"
   ]
  },
  {
   "cell_type": "code",
   "execution_count": 311,
   "id": "a42d6ca5",
   "metadata": {},
   "outputs": [],
   "source": [
    "# importing the main libraries\n",
    "import pandas as pn\n",
    "import numpy as np\n",
    "import matplotlib.pyplot as plot\n",
    "import seaborn as sn"
   ]
  },
  {
   "cell_type": "code",
   "execution_count": 312,
   "id": "08347fd5",
   "metadata": {},
   "outputs": [],
   "source": [
    "#loading the training data\n",
    "datatrain=pn.read_csv(\"train.csv\")\n",
    "#loading the test data\n",
    "datatest=pn.read_csv(\"test.csv\")\n",
    "datatrainorg=datatrain.copy()\n",
    "datatestorg=datatest.copy()"
   ]
  },
  {
   "cell_type": "code",
   "execution_count": 313,
   "id": "d669b91d",
   "metadata": {},
   "outputs": [
    {
     "name": "stdout",
     "output_type": "stream",
     "text": [
      "<class 'pandas.core.frame.DataFrame'>\n",
      "RangeIndex: 18944 entries, 0 to 18943\n",
      "Data columns (total 15 columns):\n",
      " #   Column          Non-Null Count  Dtype \n",
      "---  ------          --------------  ----- \n",
      " 0   age             18944 non-null  int64 \n",
      " 1   workclass       18944 non-null  object\n",
      " 2   fnlwgt          18944 non-null  int64 \n",
      " 3   education       18944 non-null  object\n",
      " 4   education-num   18944 non-null  int64 \n",
      " 5   marital-status  18944 non-null  object\n",
      " 6   occupation      18944 non-null  object\n",
      " 7   relationship    18944 non-null  object\n",
      " 8   race            18944 non-null  object\n",
      " 9   sex             18944 non-null  object\n",
      " 10  capital-gain    18944 non-null  int64 \n",
      " 11  capital-loss    18944 non-null  int64 \n",
      " 12  hours-per-week  18944 non-null  int64 \n",
      " 13  native-country  18944 non-null  object\n",
      " 14  income          18944 non-null  object\n",
      "dtypes: int64(6), object(9)\n",
      "memory usage: 2.2+ MB\n"
     ]
    }
   ],
   "source": [
    "datatrain.info()"
   ]
  },
  {
   "cell_type": "code",
   "execution_count": 314,
   "id": "0d4a3d22",
   "metadata": {},
   "outputs": [
    {
     "data": {
      "text/html": [
       "<div>\n",
       "<style scoped>\n",
       "    .dataframe tbody tr th:only-of-type {\n",
       "        vertical-align: middle;\n",
       "    }\n",
       "\n",
       "    .dataframe tbody tr th {\n",
       "        vertical-align: top;\n",
       "    }\n",
       "\n",
       "    .dataframe thead th {\n",
       "        text-align: right;\n",
       "    }\n",
       "</style>\n",
       "<table border=\"1\" class=\"dataframe\">\n",
       "  <thead>\n",
       "    <tr style=\"text-align: right;\">\n",
       "      <th></th>\n",
       "      <th>age</th>\n",
       "      <th>workclass</th>\n",
       "      <th>fnlwgt</th>\n",
       "      <th>education</th>\n",
       "      <th>education-num</th>\n",
       "      <th>marital-status</th>\n",
       "      <th>occupation</th>\n",
       "      <th>relationship</th>\n",
       "      <th>race</th>\n",
       "      <th>sex</th>\n",
       "      <th>capital-gain</th>\n",
       "      <th>capital-loss</th>\n",
       "      <th>hours-per-week</th>\n",
       "      <th>native-country</th>\n",
       "      <th>income</th>\n",
       "    </tr>\n",
       "  </thead>\n",
       "  <tbody>\n",
       "    <tr>\n",
       "      <th>0</th>\n",
       "      <td>52</td>\n",
       "      <td>Private</td>\n",
       "      <td>98926</td>\n",
       "      <td>HS-grad</td>\n",
       "      <td>9</td>\n",
       "      <td>Never-married</td>\n",
       "      <td>Other-service</td>\n",
       "      <td>Unmarried</td>\n",
       "      <td>White</td>\n",
       "      <td>Male</td>\n",
       "      <td>-3</td>\n",
       "      <td>0</td>\n",
       "      <td>44</td>\n",
       "      <td>United-States</td>\n",
       "      <td>&lt;=50K</td>\n",
       "    </tr>\n",
       "    <tr>\n",
       "      <th>1</th>\n",
       "      <td>76</td>\n",
       "      <td>Self-emp-not-inc</td>\n",
       "      <td>132607</td>\n",
       "      <td>Bachelors</td>\n",
       "      <td>12</td>\n",
       "      <td>Married-civ-spouse</td>\n",
       "      <td>Sales</td>\n",
       "      <td>Husband</td>\n",
       "      <td>White</td>\n",
       "      <td>Male</td>\n",
       "      <td>7527</td>\n",
       "      <td>0</td>\n",
       "      <td>44</td>\n",
       "      <td>United-States</td>\n",
       "      <td>&gt;50K</td>\n",
       "    </tr>\n",
       "    <tr>\n",
       "      <th>2</th>\n",
       "      <td>40</td>\n",
       "      <td>Private</td>\n",
       "      <td>243258</td>\n",
       "      <td>Bachelors</td>\n",
       "      <td>13</td>\n",
       "      <td>Married-civ-spouse</td>\n",
       "      <td>Transport-moving</td>\n",
       "      <td>Husband</td>\n",
       "      <td>Amer-Indian-Eskimo</td>\n",
       "      <td>Male</td>\n",
       "      <td>19</td>\n",
       "      <td>0</td>\n",
       "      <td>57</td>\n",
       "      <td>United-States</td>\n",
       "      <td>&gt;50K</td>\n",
       "    </tr>\n",
       "    <tr>\n",
       "      <th>3</th>\n",
       "      <td>76</td>\n",
       "      <td>State-gov</td>\n",
       "      <td>181259</td>\n",
       "      <td>Bachelors</td>\n",
       "      <td>12</td>\n",
       "      <td>Married-civ-spouse</td>\n",
       "      <td>Prof-specialty</td>\n",
       "      <td>Husband</td>\n",
       "      <td>White</td>\n",
       "      <td>Male</td>\n",
       "      <td>7720</td>\n",
       "      <td>0</td>\n",
       "      <td>44</td>\n",
       "      <td>United-States</td>\n",
       "      <td>&gt;50K</td>\n",
       "    </tr>\n",
       "    <tr>\n",
       "      <th>4</th>\n",
       "      <td>36</td>\n",
       "      <td>Self-emp-inc</td>\n",
       "      <td>115379</td>\n",
       "      <td>Masters</td>\n",
       "      <td>13</td>\n",
       "      <td>Divorced</td>\n",
       "      <td>Exec-managerial</td>\n",
       "      <td>Not-in-family</td>\n",
       "      <td>White</td>\n",
       "      <td>Male</td>\n",
       "      <td>12</td>\n",
       "      <td>0</td>\n",
       "      <td>58</td>\n",
       "      <td>United-States</td>\n",
       "      <td>&lt;=50K</td>\n",
       "    </tr>\n",
       "  </tbody>\n",
       "</table>\n",
       "</div>"
      ],
      "text/plain": [
       "   age          workclass  fnlwgt   education  education-num  \\\n",
       "0   52            Private   98926     HS-grad              9   \n",
       "1   76   Self-emp-not-inc  132607   Bachelors             12   \n",
       "2   40            Private  243258   Bachelors             13   \n",
       "3   76          State-gov  181259   Bachelors             12   \n",
       "4   36       Self-emp-inc  115379     Masters             13   \n",
       "\n",
       "        marital-status         occupation    relationship  \\\n",
       "0        Never-married      Other-service       Unmarried   \n",
       "1   Married-civ-spouse              Sales         Husband   \n",
       "2   Married-civ-spouse   Transport-moving         Husband   \n",
       "3   Married-civ-spouse     Prof-specialty         Husband   \n",
       "4             Divorced    Exec-managerial   Not-in-family   \n",
       "\n",
       "                  race    sex  capital-gain  capital-loss  hours-per-week  \\\n",
       "0                White   Male            -3             0              44   \n",
       "1                White   Male          7527             0              44   \n",
       "2   Amer-Indian-Eskimo   Male            19             0              57   \n",
       "3                White   Male          7720             0              44   \n",
       "4                White   Male            12             0              58   \n",
       "\n",
       "   native-country  income  \n",
       "0   United-States   <=50K  \n",
       "1   United-States    >50K  \n",
       "2   United-States    >50K  \n",
       "3   United-States    >50K  \n",
       "4   United-States   <=50K  "
      ]
     },
     "execution_count": 314,
     "metadata": {},
     "output_type": "execute_result"
    }
   ],
   "source": [
    "datatrainorg.head()"
   ]
  },
  {
   "cell_type": "markdown",
   "id": "b14f5a83",
   "metadata": {},
   "source": [
    "<h4>from above we have some non numrical columns</h4>\n",
    "<ol>\n",
    "<li>\n",
    "workclass\n",
    "</li>\n",
    "<li>\n",
    "education\n",
    "</li>\n",
    "<li>\n",
    "marital-status\n",
    "</li>\n",
    "<li>\n",
    "occupation\n",
    "</li>\n",
    "<li>\n",
    "occupation\n",
    "</li>\n",
    "<li>\n",
    "relationship \n",
    "</li>\n",
    "<li>\n",
    " race \n",
    "</li>\n",
    "<li>\n",
    "sex\n",
    "</li>\n",
    "<li>\n",
    "workclass\n",
    "</li>\n",
    "<li>\n",
    "native-country\n",
    "</li>\n",
    "<li>\n",
    "income \n",
    "</li>\n",
    "</ol>"
   ]
  },
  {
   "cell_type": "code",
   "execution_count": 315,
   "id": "46ad2b24",
   "metadata": {},
   "outputs": [
    {
     "data": {
      "text/plain": [
       "array([' Private', ' Self-emp-not-inc', ' State-gov', ' Self-emp-inc',\n",
       "       ' Federal-gov', ' Local-gov', ' Never-worked', ' Without-pay'],\n",
       "      dtype=object)"
      ]
     },
     "execution_count": 315,
     "metadata": {},
     "output_type": "execute_result"
    }
   ],
   "source": [
    "datatrain[\"workclass\"].unique()#we we use maping to handle this column"
   ]
  },
  {
   "cell_type": "code",
   "execution_count": 316,
   "id": "2866ac36",
   "metadata": {},
   "outputs": [],
   "source": [
    "from sklearn.preprocessing  import LabelEncoder\n",
    "encoder=LabelEncoder()\n",
    "datatrain[\"workclass\"]=encoder.fit_transform(datatrain[\"workclass\"])"
   ]
  },
  {
   "cell_type": "code",
   "execution_count": 317,
   "id": "7699b9e8",
   "metadata": {},
   "outputs": [
    {
     "data": {
      "text/plain": [
       "array([3, 5, 6, 4, 0, 1, 2, 7])"
      ]
     },
     "execution_count": 317,
     "metadata": {},
     "output_type": "execute_result"
    }
   ],
   "source": [
    "datatrain[\"workclass\"].unique()"
   ]
  },
  {
   "cell_type": "code",
   "execution_count": 318,
   "id": "90456100",
   "metadata": {},
   "outputs": [
    {
     "data": {
      "text/plain": [
       "array([11,  9, 12, 15,  5, 10, 14,  8,  7,  4,  1,  6,  3,  2,  0, 13])"
      ]
     },
     "execution_count": 318,
     "metadata": {},
     "output_type": "execute_result"
    }
   ],
   "source": [
    "datatrain[\"education\"]=encoder.fit_transform(datatrain[\"education\"])\n",
    "datatrain[\"education\"].unique()"
   ]
  },
  {
   "cell_type": "code",
   "execution_count": 319,
   "id": "44956c6c",
   "metadata": {},
   "outputs": [],
   "source": [
    "\n",
    "datatrain[\"marital-status\"]=encoder.fit_transform(datatrain[\"marital-status\"]) \n",
    "datatrain[\"occupation\"]=encoder.fit_transform(datatrain[\"occupation\"])\n",
    "datatrain[\"relationship\"]=encoder.fit_transform(datatrain[\"relationship\"])\n",
    "datatrain[\"race\"]=encoder.fit_transform(datatrain[\"race\"])\n",
    "datatrain[\"sex\"]=encoder.fit_transform(datatrain[\"sex\"])\n",
    "datatrain[\"native-country\"]=encoder.fit_transform(datatrain[\"native-country\"])\n",
    "datatrain[\"income\"]=encoder.fit_transform(datatrain[\"income\"])"
   ]
  },
  {
   "cell_type": "code",
   "execution_count": 320,
   "id": "d644ce8c",
   "metadata": {},
   "outputs": [
    {
     "data": {
      "text/plain": [
       "array([0, 1])"
      ]
     },
     "execution_count": 320,
     "metadata": {},
     "output_type": "execute_result"
    }
   ],
   "source": [
    "datatrain[\"income\"].unique()"
   ]
  },
  {
   "cell_type": "code",
   "execution_count": 321,
   "id": "65ef0f8c",
   "metadata": {},
   "outputs": [
    {
     "name": "stdout",
     "output_type": "stream",
     "text": [
      "<class 'pandas.core.frame.DataFrame'>\n",
      "RangeIndex: 18944 entries, 0 to 18943\n",
      "Data columns (total 15 columns):\n",
      " #   Column          Non-Null Count  Dtype\n",
      "---  ------          --------------  -----\n",
      " 0   age             18944 non-null  int64\n",
      " 1   workclass       18944 non-null  int32\n",
      " 2   fnlwgt          18944 non-null  int64\n",
      " 3   education       18944 non-null  int32\n",
      " 4   education-num   18944 non-null  int64\n",
      " 5   marital-status  18944 non-null  int32\n",
      " 6   occupation      18944 non-null  int32\n",
      " 7   relationship    18944 non-null  int32\n",
      " 8   race            18944 non-null  int32\n",
      " 9   sex             18944 non-null  int32\n",
      " 10  capital-gain    18944 non-null  int64\n",
      " 11  capital-loss    18944 non-null  int64\n",
      " 12  hours-per-week  18944 non-null  int64\n",
      " 13  native-country  18944 non-null  int32\n",
      " 14  income          18944 non-null  int32\n",
      "dtypes: int32(9), int64(6)\n",
      "memory usage: 1.5 MB\n"
     ]
    }
   ],
   "source": [
    "datatrain.info()"
   ]
  },
  {
   "cell_type": "markdown",
   "id": "992e6214",
   "metadata": {},
   "source": [
    "<h4>know we don't have nonnumric data types</h4>"
   ]
  },
  {
   "cell_type": "code",
   "execution_count": 322,
   "id": "f933865c",
   "metadata": {},
   "outputs": [
    {
     "data": {
      "text/html": [
       "<div>\n",
       "<style scoped>\n",
       "    .dataframe tbody tr th:only-of-type {\n",
       "        vertical-align: middle;\n",
       "    }\n",
       "\n",
       "    .dataframe tbody tr th {\n",
       "        vertical-align: top;\n",
       "    }\n",
       "\n",
       "    .dataframe thead th {\n",
       "        text-align: right;\n",
       "    }\n",
       "</style>\n",
       "<table border=\"1\" class=\"dataframe\">\n",
       "  <thead>\n",
       "    <tr style=\"text-align: right;\">\n",
       "      <th></th>\n",
       "      <th>age</th>\n",
       "      <th>workclass</th>\n",
       "      <th>fnlwgt</th>\n",
       "      <th>education</th>\n",
       "      <th>education-num</th>\n",
       "      <th>marital-status</th>\n",
       "      <th>occupation</th>\n",
       "      <th>relationship</th>\n",
       "      <th>race</th>\n",
       "      <th>sex</th>\n",
       "      <th>capital-gain</th>\n",
       "      <th>capital-loss</th>\n",
       "      <th>hours-per-week</th>\n",
       "      <th>native-country</th>\n",
       "      <th>income</th>\n",
       "    </tr>\n",
       "  </thead>\n",
       "  <tbody>\n",
       "    <tr>\n",
       "      <th>0</th>\n",
       "      <td>52</td>\n",
       "      <td>3</td>\n",
       "      <td>98926</td>\n",
       "      <td>11</td>\n",
       "      <td>9</td>\n",
       "      <td>4</td>\n",
       "      <td>7</td>\n",
       "      <td>4</td>\n",
       "      <td>4</td>\n",
       "      <td>1</td>\n",
       "      <td>-3</td>\n",
       "      <td>0</td>\n",
       "      <td>44</td>\n",
       "      <td>38</td>\n",
       "      <td>0</td>\n",
       "    </tr>\n",
       "    <tr>\n",
       "      <th>1</th>\n",
       "      <td>76</td>\n",
       "      <td>5</td>\n",
       "      <td>132607</td>\n",
       "      <td>9</td>\n",
       "      <td>12</td>\n",
       "      <td>2</td>\n",
       "      <td>11</td>\n",
       "      <td>0</td>\n",
       "      <td>4</td>\n",
       "      <td>1</td>\n",
       "      <td>7527</td>\n",
       "      <td>0</td>\n",
       "      <td>44</td>\n",
       "      <td>38</td>\n",
       "      <td>1</td>\n",
       "    </tr>\n",
       "    <tr>\n",
       "      <th>2</th>\n",
       "      <td>40</td>\n",
       "      <td>3</td>\n",
       "      <td>243258</td>\n",
       "      <td>9</td>\n",
       "      <td>13</td>\n",
       "      <td>2</td>\n",
       "      <td>13</td>\n",
       "      <td>0</td>\n",
       "      <td>0</td>\n",
       "      <td>1</td>\n",
       "      <td>19</td>\n",
       "      <td>0</td>\n",
       "      <td>57</td>\n",
       "      <td>38</td>\n",
       "      <td>1</td>\n",
       "    </tr>\n",
       "    <tr>\n",
       "      <th>3</th>\n",
       "      <td>76</td>\n",
       "      <td>6</td>\n",
       "      <td>181259</td>\n",
       "      <td>9</td>\n",
       "      <td>12</td>\n",
       "      <td>2</td>\n",
       "      <td>9</td>\n",
       "      <td>0</td>\n",
       "      <td>4</td>\n",
       "      <td>1</td>\n",
       "      <td>7720</td>\n",
       "      <td>0</td>\n",
       "      <td>44</td>\n",
       "      <td>38</td>\n",
       "      <td>1</td>\n",
       "    </tr>\n",
       "    <tr>\n",
       "      <th>4</th>\n",
       "      <td>36</td>\n",
       "      <td>4</td>\n",
       "      <td>115379</td>\n",
       "      <td>12</td>\n",
       "      <td>13</td>\n",
       "      <td>0</td>\n",
       "      <td>3</td>\n",
       "      <td>1</td>\n",
       "      <td>4</td>\n",
       "      <td>1</td>\n",
       "      <td>12</td>\n",
       "      <td>0</td>\n",
       "      <td>58</td>\n",
       "      <td>38</td>\n",
       "      <td>0</td>\n",
       "    </tr>\n",
       "  </tbody>\n",
       "</table>\n",
       "</div>"
      ],
      "text/plain": [
       "   age  workclass  fnlwgt  education  education-num  marital-status  \\\n",
       "0   52          3   98926         11              9               4   \n",
       "1   76          5  132607          9             12               2   \n",
       "2   40          3  243258          9             13               2   \n",
       "3   76          6  181259          9             12               2   \n",
       "4   36          4  115379         12             13               0   \n",
       "\n",
       "   occupation  relationship  race  sex  capital-gain  capital-loss  \\\n",
       "0           7             4     4    1            -3             0   \n",
       "1          11             0     4    1          7527             0   \n",
       "2          13             0     0    1            19             0   \n",
       "3           9             0     4    1          7720             0   \n",
       "4           3             1     4    1            12             0   \n",
       "\n",
       "   hours-per-week  native-country  income  \n",
       "0              44              38       0  \n",
       "1              44              38       1  \n",
       "2              57              38       1  \n",
       "3              44              38       1  \n",
       "4              58              38       0  "
      ]
     },
     "execution_count": 322,
     "metadata": {},
     "output_type": "execute_result"
    }
   ],
   "source": [
    "datatrain.head()"
   ]
  },
  {
   "cell_type": "code",
   "execution_count": 323,
   "id": "7641e2e5",
   "metadata": {},
   "outputs": [
    {
     "data": {
      "text/html": [
       "<div>\n",
       "<style scoped>\n",
       "    .dataframe tbody tr th:only-of-type {\n",
       "        vertical-align: middle;\n",
       "    }\n",
       "\n",
       "    .dataframe tbody tr th {\n",
       "        vertical-align: top;\n",
       "    }\n",
       "\n",
       "    .dataframe thead th {\n",
       "        text-align: right;\n",
       "    }\n",
       "</style>\n",
       "<table border=\"1\" class=\"dataframe\">\n",
       "  <thead>\n",
       "    <tr style=\"text-align: right;\">\n",
       "      <th></th>\n",
       "      <th>age</th>\n",
       "      <th>workclass</th>\n",
       "      <th>fnlwgt</th>\n",
       "      <th>education</th>\n",
       "      <th>education-num</th>\n",
       "      <th>marital-status</th>\n",
       "      <th>occupation</th>\n",
       "      <th>relationship</th>\n",
       "      <th>race</th>\n",
       "      <th>sex</th>\n",
       "      <th>capital-gain</th>\n",
       "      <th>capital-loss</th>\n",
       "      <th>hours-per-week</th>\n",
       "      <th>native-country</th>\n",
       "      <th>income</th>\n",
       "    </tr>\n",
       "  </thead>\n",
       "  <tbody>\n",
       "    <tr>\n",
       "      <th>18939</th>\n",
       "      <td>25</td>\n",
       "      <td>3</td>\n",
       "      <td>174301</td>\n",
       "      <td>9</td>\n",
       "      <td>12</td>\n",
       "      <td>4</td>\n",
       "      <td>7</td>\n",
       "      <td>1</td>\n",
       "      <td>4</td>\n",
       "      <td>0</td>\n",
       "      <td>5</td>\n",
       "      <td>0</td>\n",
       "      <td>39</td>\n",
       "      <td>38</td>\n",
       "      <td>0</td>\n",
       "    </tr>\n",
       "    <tr>\n",
       "      <th>18940</th>\n",
       "      <td>22</td>\n",
       "      <td>3</td>\n",
       "      <td>135915</td>\n",
       "      <td>15</td>\n",
       "      <td>9</td>\n",
       "      <td>4</td>\n",
       "      <td>7</td>\n",
       "      <td>4</td>\n",
       "      <td>4</td>\n",
       "      <td>0</td>\n",
       "      <td>16</td>\n",
       "      <td>0</td>\n",
       "      <td>44</td>\n",
       "      <td>1</td>\n",
       "      <td>0</td>\n",
       "    </tr>\n",
       "    <tr>\n",
       "      <th>18941</th>\n",
       "      <td>47</td>\n",
       "      <td>1</td>\n",
       "      <td>47276</td>\n",
       "      <td>9</td>\n",
       "      <td>12</td>\n",
       "      <td>4</td>\n",
       "      <td>0</td>\n",
       "      <td>2</td>\n",
       "      <td>2</td>\n",
       "      <td>0</td>\n",
       "      <td>1</td>\n",
       "      <td>1842</td>\n",
       "      <td>39</td>\n",
       "      <td>38</td>\n",
       "      <td>0</td>\n",
       "    </tr>\n",
       "    <tr>\n",
       "      <th>18942</th>\n",
       "      <td>48</td>\n",
       "      <td>3</td>\n",
       "      <td>88787</td>\n",
       "      <td>9</td>\n",
       "      <td>12</td>\n",
       "      <td>2</td>\n",
       "      <td>11</td>\n",
       "      <td>0</td>\n",
       "      <td>1</td>\n",
       "      <td>1</td>\n",
       "      <td>-9</td>\n",
       "      <td>0</td>\n",
       "      <td>71</td>\n",
       "      <td>34</td>\n",
       "      <td>0</td>\n",
       "    </tr>\n",
       "    <tr>\n",
       "      <th>18943</th>\n",
       "      <td>47</td>\n",
       "      <td>0</td>\n",
       "      <td>175720</td>\n",
       "      <td>12</td>\n",
       "      <td>13</td>\n",
       "      <td>2</td>\n",
       "      <td>13</td>\n",
       "      <td>0</td>\n",
       "      <td>4</td>\n",
       "      <td>1</td>\n",
       "      <td>-1</td>\n",
       "      <td>0</td>\n",
       "      <td>39</td>\n",
       "      <td>38</td>\n",
       "      <td>1</td>\n",
       "    </tr>\n",
       "  </tbody>\n",
       "</table>\n",
       "</div>"
      ],
      "text/plain": [
       "       age  workclass  fnlwgt  education  education-num  marital-status  \\\n",
       "18939   25          3  174301          9             12               4   \n",
       "18940   22          3  135915         15              9               4   \n",
       "18941   47          1   47276          9             12               4   \n",
       "18942   48          3   88787          9             12               2   \n",
       "18943   47          0  175720         12             13               2   \n",
       "\n",
       "       occupation  relationship  race  sex  capital-gain  capital-loss  \\\n",
       "18939           7             1     4    0             5             0   \n",
       "18940           7             4     4    0            16             0   \n",
       "18941           0             2     2    0             1          1842   \n",
       "18942          11             0     1    1            -9             0   \n",
       "18943          13             0     4    1            -1             0   \n",
       "\n",
       "       hours-per-week  native-country  income  \n",
       "18939              39              38       0  \n",
       "18940              44               1       0  \n",
       "18941              39              38       0  \n",
       "18942              71              34       0  \n",
       "18943              39              38       1  "
      ]
     },
     "execution_count": 323,
     "metadata": {},
     "output_type": "execute_result"
    }
   ],
   "source": [
    "datatrain.tail()"
   ]
  },
  {
   "cell_type": "code",
   "execution_count": 324,
   "id": "68f1e5e0",
   "metadata": {},
   "outputs": [
    {
     "data": {
      "text/html": [
       "<div>\n",
       "<style scoped>\n",
       "    .dataframe tbody tr th:only-of-type {\n",
       "        vertical-align: middle;\n",
       "    }\n",
       "\n",
       "    .dataframe tbody tr th {\n",
       "        vertical-align: top;\n",
       "    }\n",
       "\n",
       "    .dataframe thead th {\n",
       "        text-align: right;\n",
       "    }\n",
       "</style>\n",
       "<table border=\"1\" class=\"dataframe\">\n",
       "  <thead>\n",
       "    <tr style=\"text-align: right;\">\n",
       "      <th></th>\n",
       "      <th>age</th>\n",
       "      <th>workclass</th>\n",
       "      <th>fnlwgt</th>\n",
       "      <th>education</th>\n",
       "      <th>education-num</th>\n",
       "      <th>marital-status</th>\n",
       "      <th>occupation</th>\n",
       "      <th>relationship</th>\n",
       "      <th>race</th>\n",
       "      <th>sex</th>\n",
       "      <th>capital-gain</th>\n",
       "      <th>capital-loss</th>\n",
       "      <th>hours-per-week</th>\n",
       "      <th>native-country</th>\n",
       "      <th>income</th>\n",
       "    </tr>\n",
       "  </thead>\n",
       "  <tbody>\n",
       "    <tr>\n",
       "      <th>age</th>\n",
       "      <td>1.000000</td>\n",
       "      <td>0.142540</td>\n",
       "      <td>-0.109581</td>\n",
       "      <td>0.034316</td>\n",
       "      <td>0.073603</td>\n",
       "      <td>-0.244467</td>\n",
       "      <td>0.055374</td>\n",
       "      <td>-0.201499</td>\n",
       "      <td>0.047379</td>\n",
       "      <td>0.122194</td>\n",
       "      <td>0.087210</td>\n",
       "      <td>0.021077</td>\n",
       "      <td>0.201446</td>\n",
       "      <td>-0.009174</td>\n",
       "      <td>0.233615</td>\n",
       "    </tr>\n",
       "    <tr>\n",
       "      <th>workclass</th>\n",
       "      <td>0.142540</td>\n",
       "      <td>1.000000</td>\n",
       "      <td>-0.051797</td>\n",
       "      <td>0.000896</td>\n",
       "      <td>-0.000545</td>\n",
       "      <td>-0.039117</td>\n",
       "      <td>0.040160</td>\n",
       "      <td>-0.115308</td>\n",
       "      <td>0.043993</td>\n",
       "      <td>0.134359</td>\n",
       "      <td>0.011209</td>\n",
       "      <td>-0.002665</td>\n",
       "      <td>0.109831</td>\n",
       "      <td>0.040728</td>\n",
       "      <td>0.006454</td>\n",
       "    </tr>\n",
       "    <tr>\n",
       "      <th>fnlwgt</th>\n",
       "      <td>-0.109581</td>\n",
       "      <td>-0.051797</td>\n",
       "      <td>1.000000</td>\n",
       "      <td>0.019234</td>\n",
       "      <td>-0.108517</td>\n",
       "      <td>0.025795</td>\n",
       "      <td>-0.021189</td>\n",
       "      <td>0.036507</td>\n",
       "      <td>-0.016748</td>\n",
       "      <td>0.010111</td>\n",
       "      <td>-0.021073</td>\n",
       "      <td>-0.006423</td>\n",
       "      <td>-0.075476</td>\n",
       "      <td>-0.018313</td>\n",
       "      <td>-0.057124</td>\n",
       "    </tr>\n",
       "    <tr>\n",
       "      <th>education</th>\n",
       "      <td>0.034316</td>\n",
       "      <td>0.000896</td>\n",
       "      <td>0.019234</td>\n",
       "      <td>1.000000</td>\n",
       "      <td>0.332371</td>\n",
       "      <td>-0.072634</td>\n",
       "      <td>-0.069373</td>\n",
       "      <td>-0.024312</td>\n",
       "      <td>-0.103289</td>\n",
       "      <td>-0.003323</td>\n",
       "      <td>0.054073</td>\n",
       "      <td>0.024356</td>\n",
       "      <td>0.024016</td>\n",
       "      <td>0.036742</td>\n",
       "      <td>0.120232</td>\n",
       "    </tr>\n",
       "    <tr>\n",
       "      <th>education-num</th>\n",
       "      <td>0.073603</td>\n",
       "      <td>-0.000545</td>\n",
       "      <td>-0.108517</td>\n",
       "      <td>0.332371</td>\n",
       "      <td>1.000000</td>\n",
       "      <td>-0.053044</td>\n",
       "      <td>0.051330</td>\n",
       "      <td>-0.098797</td>\n",
       "      <td>0.003771</td>\n",
       "      <td>0.017287</td>\n",
       "      <td>0.144942</td>\n",
       "      <td>0.052373</td>\n",
       "      <td>0.212153</td>\n",
       "      <td>0.060594</td>\n",
       "      <td>0.287571</td>\n",
       "    </tr>\n",
       "    <tr>\n",
       "      <th>marital-status</th>\n",
       "      <td>-0.244467</td>\n",
       "      <td>-0.039117</td>\n",
       "      <td>0.025795</td>\n",
       "      <td>-0.072634</td>\n",
       "      <td>-0.053044</td>\n",
       "      <td>1.000000</td>\n",
       "      <td>0.003809</td>\n",
       "      <td>0.152941</td>\n",
       "      <td>-0.042381</td>\n",
       "      <td>-0.100741</td>\n",
       "      <td>-0.080053</td>\n",
       "      <td>-0.022831</td>\n",
       "      <td>-0.128688</td>\n",
       "      <td>-0.047750</td>\n",
       "      <td>-0.222820</td>\n",
       "    </tr>\n",
       "    <tr>\n",
       "      <th>occupation</th>\n",
       "      <td>0.055374</td>\n",
       "      <td>0.040160</td>\n",
       "      <td>-0.021189</td>\n",
       "      <td>-0.069373</td>\n",
       "      <td>0.051330</td>\n",
       "      <td>0.003809</td>\n",
       "      <td>1.000000</td>\n",
       "      <td>-0.125924</td>\n",
       "      <td>0.032305</td>\n",
       "      <td>0.129288</td>\n",
       "      <td>0.022045</td>\n",
       "      <td>0.030121</td>\n",
       "      <td>0.076381</td>\n",
       "      <td>-0.008939</td>\n",
       "      <td>0.059329</td>\n",
       "    </tr>\n",
       "    <tr>\n",
       "      <th>relationship</th>\n",
       "      <td>-0.201499</td>\n",
       "      <td>-0.115308</td>\n",
       "      <td>0.036507</td>\n",
       "      <td>-0.024312</td>\n",
       "      <td>-0.098797</td>\n",
       "      <td>0.152941</td>\n",
       "      <td>-0.125924</td>\n",
       "      <td>1.000000</td>\n",
       "      <td>-0.128804</td>\n",
       "      <td>-0.548760</td>\n",
       "      <td>-0.098604</td>\n",
       "      <td>-0.052478</td>\n",
       "      <td>-0.318665</td>\n",
       "      <td>-0.034643</td>\n",
       "      <td>-0.303812</td>\n",
       "    </tr>\n",
       "    <tr>\n",
       "      <th>race</th>\n",
       "      <td>0.047379</td>\n",
       "      <td>0.043993</td>\n",
       "      <td>-0.016748</td>\n",
       "      <td>-0.103289</td>\n",
       "      <td>0.003771</td>\n",
       "      <td>-0.042381</td>\n",
       "      <td>0.032305</td>\n",
       "      <td>-0.128804</td>\n",
       "      <td>1.000000</td>\n",
       "      <td>0.090388</td>\n",
       "      <td>0.041287</td>\n",
       "      <td>0.003973</td>\n",
       "      <td>0.091963</td>\n",
       "      <td>0.217258</td>\n",
       "      <td>0.091568</td>\n",
       "    </tr>\n",
       "    <tr>\n",
       "      <th>sex</th>\n",
       "      <td>0.122194</td>\n",
       "      <td>0.134359</td>\n",
       "      <td>0.010111</td>\n",
       "      <td>-0.003323</td>\n",
       "      <td>0.017287</td>\n",
       "      <td>-0.100741</td>\n",
       "      <td>0.129288</td>\n",
       "      <td>-0.548760</td>\n",
       "      <td>0.090388</td>\n",
       "      <td>1.000000</td>\n",
       "      <td>0.071591</td>\n",
       "      <td>0.036802</td>\n",
       "      <td>0.299588</td>\n",
       "      <td>0.047410</td>\n",
       "      <td>0.236997</td>\n",
       "    </tr>\n",
       "    <tr>\n",
       "      <th>capital-gain</th>\n",
       "      <td>0.087210</td>\n",
       "      <td>0.011209</td>\n",
       "      <td>-0.021073</td>\n",
       "      <td>0.054073</td>\n",
       "      <td>0.144942</td>\n",
       "      <td>-0.080053</td>\n",
       "      <td>0.022045</td>\n",
       "      <td>-0.098604</td>\n",
       "      <td>0.041287</td>\n",
       "      <td>0.071591</td>\n",
       "      <td>1.000000</td>\n",
       "      <td>0.036738</td>\n",
       "      <td>0.112763</td>\n",
       "      <td>0.038597</td>\n",
       "      <td>0.244890</td>\n",
       "    </tr>\n",
       "    <tr>\n",
       "      <th>capital-loss</th>\n",
       "      <td>0.021077</td>\n",
       "      <td>-0.002665</td>\n",
       "      <td>-0.006423</td>\n",
       "      <td>0.024356</td>\n",
       "      <td>0.052373</td>\n",
       "      <td>-0.022831</td>\n",
       "      <td>0.030121</td>\n",
       "      <td>-0.052478</td>\n",
       "      <td>0.003973</td>\n",
       "      <td>0.036802</td>\n",
       "      <td>0.036738</td>\n",
       "      <td>1.000000</td>\n",
       "      <td>0.038154</td>\n",
       "      <td>0.012392</td>\n",
       "      <td>0.074826</td>\n",
       "    </tr>\n",
       "    <tr>\n",
       "      <th>hours-per-week</th>\n",
       "      <td>0.201446</td>\n",
       "      <td>0.109831</td>\n",
       "      <td>-0.075476</td>\n",
       "      <td>0.024016</td>\n",
       "      <td>0.212153</td>\n",
       "      <td>-0.128688</td>\n",
       "      <td>0.076381</td>\n",
       "      <td>-0.318665</td>\n",
       "      <td>0.091963</td>\n",
       "      <td>0.299588</td>\n",
       "      <td>0.112763</td>\n",
       "      <td>0.038154</td>\n",
       "      <td>1.000000</td>\n",
       "      <td>0.041041</td>\n",
       "      <td>0.239714</td>\n",
       "    </tr>\n",
       "    <tr>\n",
       "      <th>native-country</th>\n",
       "      <td>-0.009174</td>\n",
       "      <td>0.040728</td>\n",
       "      <td>-0.018313</td>\n",
       "      <td>0.036742</td>\n",
       "      <td>0.060594</td>\n",
       "      <td>-0.047750</td>\n",
       "      <td>-0.008939</td>\n",
       "      <td>-0.034643</td>\n",
       "      <td>0.217258</td>\n",
       "      <td>0.047410</td>\n",
       "      <td>0.038597</td>\n",
       "      <td>0.012392</td>\n",
       "      <td>0.041041</td>\n",
       "      <td>1.000000</td>\n",
       "      <td>0.056740</td>\n",
       "    </tr>\n",
       "    <tr>\n",
       "      <th>income</th>\n",
       "      <td>0.233615</td>\n",
       "      <td>0.006454</td>\n",
       "      <td>-0.057124</td>\n",
       "      <td>0.120232</td>\n",
       "      <td>0.287571</td>\n",
       "      <td>-0.222820</td>\n",
       "      <td>0.059329</td>\n",
       "      <td>-0.303812</td>\n",
       "      <td>0.091568</td>\n",
       "      <td>0.236997</td>\n",
       "      <td>0.244890</td>\n",
       "      <td>0.074826</td>\n",
       "      <td>0.239714</td>\n",
       "      <td>0.056740</td>\n",
       "      <td>1.000000</td>\n",
       "    </tr>\n",
       "  </tbody>\n",
       "</table>\n",
       "</div>"
      ],
      "text/plain": [
       "                     age  workclass    fnlwgt  education  education-num  \\\n",
       "age             1.000000   0.142540 -0.109581   0.034316       0.073603   \n",
       "workclass       0.142540   1.000000 -0.051797   0.000896      -0.000545   \n",
       "fnlwgt         -0.109581  -0.051797  1.000000   0.019234      -0.108517   \n",
       "education       0.034316   0.000896  0.019234   1.000000       0.332371   \n",
       "education-num   0.073603  -0.000545 -0.108517   0.332371       1.000000   \n",
       "marital-status -0.244467  -0.039117  0.025795  -0.072634      -0.053044   \n",
       "occupation      0.055374   0.040160 -0.021189  -0.069373       0.051330   \n",
       "relationship   -0.201499  -0.115308  0.036507  -0.024312      -0.098797   \n",
       "race            0.047379   0.043993 -0.016748  -0.103289       0.003771   \n",
       "sex             0.122194   0.134359  0.010111  -0.003323       0.017287   \n",
       "capital-gain    0.087210   0.011209 -0.021073   0.054073       0.144942   \n",
       "capital-loss    0.021077  -0.002665 -0.006423   0.024356       0.052373   \n",
       "hours-per-week  0.201446   0.109831 -0.075476   0.024016       0.212153   \n",
       "native-country -0.009174   0.040728 -0.018313   0.036742       0.060594   \n",
       "income          0.233615   0.006454 -0.057124   0.120232       0.287571   \n",
       "\n",
       "                marital-status  occupation  relationship      race       sex  \\\n",
       "age                  -0.244467    0.055374     -0.201499  0.047379  0.122194   \n",
       "workclass            -0.039117    0.040160     -0.115308  0.043993  0.134359   \n",
       "fnlwgt                0.025795   -0.021189      0.036507 -0.016748  0.010111   \n",
       "education            -0.072634   -0.069373     -0.024312 -0.103289 -0.003323   \n",
       "education-num        -0.053044    0.051330     -0.098797  0.003771  0.017287   \n",
       "marital-status        1.000000    0.003809      0.152941 -0.042381 -0.100741   \n",
       "occupation            0.003809    1.000000     -0.125924  0.032305  0.129288   \n",
       "relationship          0.152941   -0.125924      1.000000 -0.128804 -0.548760   \n",
       "race                 -0.042381    0.032305     -0.128804  1.000000  0.090388   \n",
       "sex                  -0.100741    0.129288     -0.548760  0.090388  1.000000   \n",
       "capital-gain         -0.080053    0.022045     -0.098604  0.041287  0.071591   \n",
       "capital-loss         -0.022831    0.030121     -0.052478  0.003973  0.036802   \n",
       "hours-per-week       -0.128688    0.076381     -0.318665  0.091963  0.299588   \n",
       "native-country       -0.047750   -0.008939     -0.034643  0.217258  0.047410   \n",
       "income               -0.222820    0.059329     -0.303812  0.091568  0.236997   \n",
       "\n",
       "                capital-gain  capital-loss  hours-per-week  native-country  \\\n",
       "age                 0.087210      0.021077        0.201446       -0.009174   \n",
       "workclass           0.011209     -0.002665        0.109831        0.040728   \n",
       "fnlwgt             -0.021073     -0.006423       -0.075476       -0.018313   \n",
       "education           0.054073      0.024356        0.024016        0.036742   \n",
       "education-num       0.144942      0.052373        0.212153        0.060594   \n",
       "marital-status     -0.080053     -0.022831       -0.128688       -0.047750   \n",
       "occupation          0.022045      0.030121        0.076381       -0.008939   \n",
       "relationship       -0.098604     -0.052478       -0.318665       -0.034643   \n",
       "race                0.041287      0.003973        0.091963        0.217258   \n",
       "sex                 0.071591      0.036802        0.299588        0.047410   \n",
       "capital-gain        1.000000      0.036738        0.112763        0.038597   \n",
       "capital-loss        0.036738      1.000000        0.038154        0.012392   \n",
       "hours-per-week      0.112763      0.038154        1.000000        0.041041   \n",
       "native-country      0.038597      0.012392        0.041041        1.000000   \n",
       "income              0.244890      0.074826        0.239714        0.056740   \n",
       "\n",
       "                  income  \n",
       "age             0.233615  \n",
       "workclass       0.006454  \n",
       "fnlwgt         -0.057124  \n",
       "education       0.120232  \n",
       "education-num   0.287571  \n",
       "marital-status -0.222820  \n",
       "occupation      0.059329  \n",
       "relationship   -0.303812  \n",
       "race            0.091568  \n",
       "sex             0.236997  \n",
       "capital-gain    0.244890  \n",
       "capital-loss    0.074826  \n",
       "hours-per-week  0.239714  \n",
       "native-country  0.056740  \n",
       "income          1.000000  "
      ]
     },
     "execution_count": 324,
     "metadata": {},
     "output_type": "execute_result"
    }
   ],
   "source": [
    "datatrain.corr()"
   ]
  },
  {
   "cell_type": "markdown",
   "id": "50c983b0",
   "metadata": {},
   "source": [
    "<p>\n",
    "    from above we conclode that\n",
    "    the hours-per-week(target feature)depends on :\n",
    "    1-age<br>\n",
    "    2-workclass<br>\n",
    "    3-education-num<br>\n",
    "    4-maritalstatus(revers)<br>\n",
    "    5-relationship(revers)<br>\n",
    "    6-sex<br>\n",
    "    7-capital gain<br>\n",
    "    8-income<br>\n",
    "</p>"
   ]
  },
  {
   "cell_type": "code",
   "execution_count": 325,
   "id": "05ad0894",
   "metadata": {},
   "outputs": [
    {
     "data": {
      "text/html": [
       "<div>\n",
       "<style scoped>\n",
       "    .dataframe tbody tr th:only-of-type {\n",
       "        vertical-align: middle;\n",
       "    }\n",
       "\n",
       "    .dataframe tbody tr th {\n",
       "        vertical-align: top;\n",
       "    }\n",
       "\n",
       "    .dataframe thead th {\n",
       "        text-align: right;\n",
       "    }\n",
       "</style>\n",
       "<table border=\"1\" class=\"dataframe\">\n",
       "  <thead>\n",
       "    <tr style=\"text-align: right;\">\n",
       "      <th></th>\n",
       "      <th>age</th>\n",
       "      <th>workclass</th>\n",
       "      <th>fnlwgt</th>\n",
       "      <th>education</th>\n",
       "      <th>education-num</th>\n",
       "      <th>marital-status</th>\n",
       "      <th>occupation</th>\n",
       "      <th>relationship</th>\n",
       "      <th>race</th>\n",
       "      <th>sex</th>\n",
       "      <th>capital-gain</th>\n",
       "      <th>capital-loss</th>\n",
       "      <th>hours-per-week</th>\n",
       "      <th>native-country</th>\n",
       "      <th>income</th>\n",
       "    </tr>\n",
       "  </thead>\n",
       "  <tbody>\n",
       "    <tr>\n",
       "      <th>income</th>\n",
       "      <td>0.233615</td>\n",
       "      <td>0.006454</td>\n",
       "      <td>-0.057124</td>\n",
       "      <td>0.120232</td>\n",
       "      <td>0.287571</td>\n",
       "      <td>-0.222820</td>\n",
       "      <td>0.059329</td>\n",
       "      <td>-0.303812</td>\n",
       "      <td>0.091568</td>\n",
       "      <td>0.236997</td>\n",
       "      <td>0.244890</td>\n",
       "      <td>0.074826</td>\n",
       "      <td>0.239714</td>\n",
       "      <td>0.056740</td>\n",
       "      <td>1.000000</td>\n",
       "    </tr>\n",
       "    <tr>\n",
       "      <th>education-num</th>\n",
       "      <td>0.073603</td>\n",
       "      <td>-0.000545</td>\n",
       "      <td>-0.108517</td>\n",
       "      <td>0.332371</td>\n",
       "      <td>1.000000</td>\n",
       "      <td>-0.053044</td>\n",
       "      <td>0.051330</td>\n",
       "      <td>-0.098797</td>\n",
       "      <td>0.003771</td>\n",
       "      <td>0.017287</td>\n",
       "      <td>0.144942</td>\n",
       "      <td>0.052373</td>\n",
       "      <td>0.212153</td>\n",
       "      <td>0.060594</td>\n",
       "      <td>0.287571</td>\n",
       "    </tr>\n",
       "    <tr>\n",
       "      <th>capital-gain</th>\n",
       "      <td>0.087210</td>\n",
       "      <td>0.011209</td>\n",
       "      <td>-0.021073</td>\n",
       "      <td>0.054073</td>\n",
       "      <td>0.144942</td>\n",
       "      <td>-0.080053</td>\n",
       "      <td>0.022045</td>\n",
       "      <td>-0.098604</td>\n",
       "      <td>0.041287</td>\n",
       "      <td>0.071591</td>\n",
       "      <td>1.000000</td>\n",
       "      <td>0.036738</td>\n",
       "      <td>0.112763</td>\n",
       "      <td>0.038597</td>\n",
       "      <td>0.244890</td>\n",
       "    </tr>\n",
       "    <tr>\n",
       "      <th>hours-per-week</th>\n",
       "      <td>0.201446</td>\n",
       "      <td>0.109831</td>\n",
       "      <td>-0.075476</td>\n",
       "      <td>0.024016</td>\n",
       "      <td>0.212153</td>\n",
       "      <td>-0.128688</td>\n",
       "      <td>0.076381</td>\n",
       "      <td>-0.318665</td>\n",
       "      <td>0.091963</td>\n",
       "      <td>0.299588</td>\n",
       "      <td>0.112763</td>\n",
       "      <td>0.038154</td>\n",
       "      <td>1.000000</td>\n",
       "      <td>0.041041</td>\n",
       "      <td>0.239714</td>\n",
       "    </tr>\n",
       "    <tr>\n",
       "      <th>sex</th>\n",
       "      <td>0.122194</td>\n",
       "      <td>0.134359</td>\n",
       "      <td>0.010111</td>\n",
       "      <td>-0.003323</td>\n",
       "      <td>0.017287</td>\n",
       "      <td>-0.100741</td>\n",
       "      <td>0.129288</td>\n",
       "      <td>-0.548760</td>\n",
       "      <td>0.090388</td>\n",
       "      <td>1.000000</td>\n",
       "      <td>0.071591</td>\n",
       "      <td>0.036802</td>\n",
       "      <td>0.299588</td>\n",
       "      <td>0.047410</td>\n",
       "      <td>0.236997</td>\n",
       "    </tr>\n",
       "    <tr>\n",
       "      <th>age</th>\n",
       "      <td>1.000000</td>\n",
       "      <td>0.142540</td>\n",
       "      <td>-0.109581</td>\n",
       "      <td>0.034316</td>\n",
       "      <td>0.073603</td>\n",
       "      <td>-0.244467</td>\n",
       "      <td>0.055374</td>\n",
       "      <td>-0.201499</td>\n",
       "      <td>0.047379</td>\n",
       "      <td>0.122194</td>\n",
       "      <td>0.087210</td>\n",
       "      <td>0.021077</td>\n",
       "      <td>0.201446</td>\n",
       "      <td>-0.009174</td>\n",
       "      <td>0.233615</td>\n",
       "    </tr>\n",
       "    <tr>\n",
       "      <th>education</th>\n",
       "      <td>0.034316</td>\n",
       "      <td>0.000896</td>\n",
       "      <td>0.019234</td>\n",
       "      <td>1.000000</td>\n",
       "      <td>0.332371</td>\n",
       "      <td>-0.072634</td>\n",
       "      <td>-0.069373</td>\n",
       "      <td>-0.024312</td>\n",
       "      <td>-0.103289</td>\n",
       "      <td>-0.003323</td>\n",
       "      <td>0.054073</td>\n",
       "      <td>0.024356</td>\n",
       "      <td>0.024016</td>\n",
       "      <td>0.036742</td>\n",
       "      <td>0.120232</td>\n",
       "    </tr>\n",
       "    <tr>\n",
       "      <th>race</th>\n",
       "      <td>0.047379</td>\n",
       "      <td>0.043993</td>\n",
       "      <td>-0.016748</td>\n",
       "      <td>-0.103289</td>\n",
       "      <td>0.003771</td>\n",
       "      <td>-0.042381</td>\n",
       "      <td>0.032305</td>\n",
       "      <td>-0.128804</td>\n",
       "      <td>1.000000</td>\n",
       "      <td>0.090388</td>\n",
       "      <td>0.041287</td>\n",
       "      <td>0.003973</td>\n",
       "      <td>0.091963</td>\n",
       "      <td>0.217258</td>\n",
       "      <td>0.091568</td>\n",
       "    </tr>\n",
       "  </tbody>\n",
       "</table>\n",
       "</div>"
      ],
      "text/plain": [
       "                     age  workclass    fnlwgt  education  education-num  \\\n",
       "income          0.233615   0.006454 -0.057124   0.120232       0.287571   \n",
       "education-num   0.073603  -0.000545 -0.108517   0.332371       1.000000   \n",
       "capital-gain    0.087210   0.011209 -0.021073   0.054073       0.144942   \n",
       "hours-per-week  0.201446   0.109831 -0.075476   0.024016       0.212153   \n",
       "sex             0.122194   0.134359  0.010111  -0.003323       0.017287   \n",
       "age             1.000000   0.142540 -0.109581   0.034316       0.073603   \n",
       "education       0.034316   0.000896  0.019234   1.000000       0.332371   \n",
       "race            0.047379   0.043993 -0.016748  -0.103289       0.003771   \n",
       "\n",
       "                marital-status  occupation  relationship      race       sex  \\\n",
       "income               -0.222820    0.059329     -0.303812  0.091568  0.236997   \n",
       "education-num        -0.053044    0.051330     -0.098797  0.003771  0.017287   \n",
       "capital-gain         -0.080053    0.022045     -0.098604  0.041287  0.071591   \n",
       "hours-per-week       -0.128688    0.076381     -0.318665  0.091963  0.299588   \n",
       "sex                  -0.100741    0.129288     -0.548760  0.090388  1.000000   \n",
       "age                  -0.244467    0.055374     -0.201499  0.047379  0.122194   \n",
       "education            -0.072634   -0.069373     -0.024312 -0.103289 -0.003323   \n",
       "race                 -0.042381    0.032305     -0.128804  1.000000  0.090388   \n",
       "\n",
       "                capital-gain  capital-loss  hours-per-week  native-country  \\\n",
       "income              0.244890      0.074826        0.239714        0.056740   \n",
       "education-num       0.144942      0.052373        0.212153        0.060594   \n",
       "capital-gain        1.000000      0.036738        0.112763        0.038597   \n",
       "hours-per-week      0.112763      0.038154        1.000000        0.041041   \n",
       "sex                 0.071591      0.036802        0.299588        0.047410   \n",
       "age                 0.087210      0.021077        0.201446       -0.009174   \n",
       "education           0.054073      0.024356        0.024016        0.036742   \n",
       "race                0.041287      0.003973        0.091963        0.217258   \n",
       "\n",
       "                  income  \n",
       "income          1.000000  \n",
       "education-num   0.287571  \n",
       "capital-gain    0.244890  \n",
       "hours-per-week  0.239714  \n",
       "sex             0.236997  \n",
       "age             0.233615  \n",
       "education       0.120232  \n",
       "race            0.091568  "
      ]
     },
     "execution_count": 325,
     "metadata": {},
     "output_type": "execute_result"
    }
   ],
   "source": [
    "corrmat=datatrain.corr()\n",
    "k=8\n",
    "corrmat.nlargest(k,\"income\")"
   ]
  },
  {
   "cell_type": "code",
   "execution_count": 326,
   "id": "1c4fe68e",
   "metadata": {},
   "outputs": [
    {
     "data": {
      "image/png": "[encoded data removed]",
      "text/plain": [
       "<Figure size 864x648 with 2 Axes>"
      ]
     },
     "metadata": {
      "needs_background": "light"
     },
     "output_type": "display_data"
    }
   ],
   "source": [
    "cols = corrmat.nlargest(k, 'hours-per-week')['hours-per-week'].index\n",
    "cm = np.corrcoef(datatrain[cols].values.T)\n",
    "f, ax = plot.subplots(figsize=(12, 9))\n",
    "sn.heatmap(cm, cmap=\"YlGnBu\", cbar=True, annot=True, square=True, fmt='.2f', annot_kws={'size': 10}, yticklabels=cols.values, xticklabels=cols.values)\n",
    "plot.show()"
   ]
  },
  {
   "cell_type": "code",
   "execution_count": null,
   "id": "11b4547a",
   "metadata": {},
   "outputs": [],
   "source": []
  },
  {
   "cell_type": "code",
   "execution_count": 327,
   "id": "4b07bd79",
   "metadata": {},
   "outputs": [],
   "source": [
    "main_feature=datatrain"
   ]
  },
  {
   "cell_type": "code",
   "execution_count": 328,
   "id": "60bad2d3",
   "metadata": {},
   "outputs": [
    {
     "data": {
      "text/plain": [
       "Index(['age', 'workclass', 'fnlwgt', 'education', 'education-num',\n",
       "       'marital-status', 'occupation', 'relationship', 'race', 'sex',\n",
       "       'capital-gain', 'capital-loss', 'hours-per-week', 'native-country',\n",
       "       'income'],\n",
       "      dtype='object')"
      ]
     },
     "execution_count": 328,
     "metadata": {},
     "output_type": "execute_result"
    }
   ],
   "source": [
    "main_feature.columns"
   ]
  },
  {
   "cell_type": "markdown",
   "id": "204bd5c8",
   "metadata": {},
   "source": [
    "<h3>know we will detect the outlier</h3>"
   ]
  },
  {
   "cell_type": "code",
   "execution_count": 329,
   "id": "5a62f8e1",
   "metadata": {},
   "outputs": [
    {
     "name": "stdout",
     "output_type": "stream",
     "text": [
      "age 's skew value 0.43956651760013254\n",
      "workclass 's skew value -0.05038836098536258\n",
      "fnlwgt 's skew value 0.9456536258382224\n",
      "education 's skew value -0.7736180282719802\n",
      "education-num 's skew value -0.3192460922470335\n",
      "marital-status 's skew value 0.01671186275406886\n",
      "occupation 's skew value 0.051778950190468624\n",
      "relationship 's skew value 0.4193848724641605\n",
      "race 's skew value -1.133962853913908\n",
      "sex 's skew value -0.267369785452547\n",
      "capital-gain 's skew value 4.914213370402475\n",
      "capital-loss 's skew value 7.417417637955978\n",
      "hours-per-week 's skew value 0.21127913955903005\n",
      "native-country 's skew value -3.0018069540655907\n",
      "income 's skew value 0.9446324139563173\n"
     ]
    }
   ],
   "source": [
    "for col in main_feature.columns:\n",
    "    print(col,\"'s skew value\",main_feature[col].skew())"
   ]
  },
  {
   "cell_type": "code",
   "execution_count": 330,
   "id": "3b0c4651",
   "metadata": {},
   "outputs": [
    {
     "data": {
      "text/plain": [
       "array([   -3,  7527,    19, ...,  4889, 14964,  7840], dtype=int64)"
      ]
     },
     "execution_count": 330,
     "metadata": {},
     "output_type": "execute_result"
    }
   ],
   "source": [
    "main_feature[\"capital-gain\"].unique()"
   ]
  },
  {
   "cell_type": "markdown",
   "id": "ba9f7a34",
   "metadata": {},
   "source": [
    "<h3>we have to columns that has outliers</h3>\n",
    "<p>\n",
    "    1-race's<br>\n",
    "    2-capital-gain<br>\n",
    "    \n",
    "</p>"
   ]
  },
  {
   "cell_type": "code",
   "execution_count": 331,
   "id": "64ba91e5",
   "metadata": {},
   "outputs": [
    {
     "data": {
      "image/png": "[encoded data removed]",
      "text/plain": [
       "<Figure size 432x288 with 1 Axes>"
      ]
     },
     "metadata": {
      "needs_background": "light"
     },
     "output_type": "display_data"
    }
   ],
   "source": [
    "plot.boxplot(main_feature[\"capital-gain\"])\n",
    "plot.show()"
   ]
  },
  {
   "cell_type": "code",
   "execution_count": 332,
   "id": "b6e4dfaf",
   "metadata": {},
   "outputs": [
    {
     "data": {
      "image/png": "[encoded data removed]",
      "text/plain": [
       "<Figure size 864x432 with 1 Axes>"
      ]
     },
     "metadata": {
      "needs_background": "light"
     },
     "output_type": "display_data"
    }
   ],
   "source": [
    "fig, ax = plot.subplots(figsize=(12,6))\n",
    "ax.scatter(datatrain['capital-gain'], datatrain['hours-per-week'])\n",
    "ax.set_xlabel('capital-gain')\n",
    "ax.set_ylabel('hours-per-week')\n",
    "plot.show()"
   ]
  },
  {
   "cell_type": "code",
   "execution_count": 333,
   "id": "2fe738cf",
   "metadata": {},
   "outputs": [
    {
     "name": "stdout",
     "output_type": "stream",
     "text": [
      "0.0\n",
      "0.0\n"
     ]
    }
   ],
   "source": [
    "Q1=main_feature['capital-loss'].quantile(0.25)\n",
    "Q3=main_feature['capital-loss'].quantile(0.75)\n",
    "IQR=Q3-Q1\n",
    "Max=Q3+1.5*IQR\n",
    "Min=Q3-1.5*IQR\n",
    "quant9=main_feature['capital-loss'].quantile(0.9)\n",
    "quant1=main_feature['capital-loss'].quantile(0.1)\n",
    "print(quant9)\n",
    "print(quant1)\n",
    "main_feature['capital-loss']= np.where(main_feature['capital-loss'] > Max,quant9 , main_feature['capital-loss'])\n",
    "main_feature['capital-loss']= np.where(main_feature['capital-loss'] < Min,quant1 , main_feature['capital-loss'])"
   ]
  },
  {
   "cell_type": "code",
   "execution_count": 334,
   "id": "9ba677b7",
   "metadata": {},
   "outputs": [
    {
     "name": "stdout",
     "output_type": "stream",
     "text": [
      "32.0\n",
      "-15.0\n"
     ]
    }
   ],
   "source": [
    "Q1=main_feature['capital-gain'].quantile(0.25)\n",
    "Q3=main_feature['capital-gain'].quantile(0.75)\n",
    "IQR=Q3-Q1\n",
    "Max=Q3+1.5*IQR\n",
    "Min=Q3-1.5*IQR\n",
    "quant9=main_feature['capital-gain'].quantile(.9)\n",
    "quant1=main_feature['capital-gain'].quantile(.1)\n",
    "print(quant9)\n",
    "print(quant1)\n",
    "main_feature['capital-gain']= np.where(main_feature['capital-gain'] > Max,quant9 , main_feature['capital-gain'])\n",
    "main_feature['capital-gain']= np.where(main_feature['capital-gain'] < Min,quant1 , main_feature['capital-gain'])"
   ]
  },
  {
   "cell_type": "code",
   "execution_count": 335,
   "id": "d8381733",
   "metadata": {},
   "outputs": [
    {
     "name": "stdout",
     "output_type": "stream",
     "text": [
      "38.0\n",
      "25.0\n"
     ]
    }
   ],
   "source": [
    "Q1=main_feature['native-country'].quantile(0.25)\n",
    "Q3=main_feature['native-country'].quantile(0.75)\n",
    "IQR=Q3-Q1\n",
    "Max=Q3+1.5*IQR\n",
    "Min=Q3-1.5*IQR\n",
    "quant9=main_feature['native-country'].quantile(.9)\n",
    "quant1=main_feature['native-country'].quantile(.1)\n",
    "print(quant9)\n",
    "print(quant1)\n",
    "main_feature['native-country']= np.where(main_feature['native-country'] > Max,quant9 , main_feature['native-country'])\n",
    "main_feature['native-country']= np.where(main_feature['native-country'] < Min,quant1 , main_feature['native-country'])"
   ]
  },
  {
   "cell_type": "code",
   "execution_count": 336,
   "id": "f938e869",
   "metadata": {},
   "outputs": [],
   "source": [
    "from sklearn.preprocessing import MinMaxScaler\n",
    "col_names = list(main_feature.columns)\n",
    "mm_scaler = MinMaxScaler()\n",
    "df_mm = mm_scaler.fit_transform(main_feature)\n",
    "df_mm = pn.DataFrame(df_mm, columns=col_names)"
   ]
  },
  {
   "cell_type": "code",
   "execution_count": 337,
   "id": "0afbc1da",
   "metadata": {},
   "outputs": [
    {
     "name": "stdout",
     "output_type": "stream",
     "text": [
      "0.34394146075252213\n"
     ]
    }
   ],
   "source": [
    "print(df_mm['capital-gain'].skew())"
   ]
  },
  {
   "cell_type": "code",
   "execution_count": 338,
   "id": "bbc03887",
   "metadata": {},
   "outputs": [
    {
     "name": "stdout",
     "output_type": "stream",
     "text": [
      "[0.1969697  0.72727273 0.53030303 0.42424242 0.27272727 0.43939394\n",
      " 0.51515152 0.3030303  0.24242424 0.01515152 0.28787879 0.15151515\n",
      " 0.04545455 0.63636364 0.60606061 0.77272727 0.40909091 0.48484848\n",
      " 0.31818182 0.56060606 0.25757576 0.71212121 0.66666667 0.5\n",
      " 0.83333333 0.37878788 0.06060606 0.39393939 0.36363636 0.10606061\n",
      " 0.13636364 0.54545455 0.46969697 0.84848485 0.33333333 0.22727273\n",
      " 0.62121212 0.07575758 0.45454545 0.21212121 0.74242424 0.57575758\n",
      " 1.         0.         0.8030303  0.12121212 0.16666667 0.18181818\n",
      " 0.6969697  0.09090909 0.75757576 0.59090909 0.34848485 0.03030303\n",
      " 0.96969697 0.78787879 0.68181818 0.65151515 0.81818182 0.90909091\n",
      " 0.89393939 0.86363636 0.92424242 0.93939394 0.95454545 0.98484848\n",
      " 0.87878788]\n"
     ]
    }
   ],
   "source": [
    "print(df_mm['capital-gain'].unique())"
   ]
  },
  {
   "cell_type": "code",
   "execution_count": 339,
   "id": "8b25055d",
   "metadata": {},
   "outputs": [
    {
     "data": {
      "text/html": [
       "<div>\n",
       "<style scoped>\n",
       "    .dataframe tbody tr th:only-of-type {\n",
       "        vertical-align: middle;\n",
       "    }\n",
       "\n",
       "    .dataframe tbody tr th {\n",
       "        vertical-align: top;\n",
       "    }\n",
       "\n",
       "    .dataframe thead th {\n",
       "        text-align: right;\n",
       "    }\n",
       "</style>\n",
       "<table border=\"1\" class=\"dataframe\">\n",
       "  <thead>\n",
       "    <tr style=\"text-align: right;\">\n",
       "      <th></th>\n",
       "      <th>age</th>\n",
       "      <th>workclass</th>\n",
       "      <th>fnlwgt</th>\n",
       "      <th>education</th>\n",
       "      <th>education-num</th>\n",
       "      <th>marital-status</th>\n",
       "      <th>occupation</th>\n",
       "      <th>relationship</th>\n",
       "      <th>race</th>\n",
       "      <th>sex</th>\n",
       "      <th>capital-gain</th>\n",
       "      <th>capital-loss</th>\n",
       "      <th>hours-per-week</th>\n",
       "      <th>native-country</th>\n",
       "      <th>income</th>\n",
       "    </tr>\n",
       "  </thead>\n",
       "  <tbody>\n",
       "    <tr>\n",
       "      <th>count</th>\n",
       "      <td>18944.000000</td>\n",
       "      <td>18944.000000</td>\n",
       "      <td>18944.000000</td>\n",
       "      <td>18944.000000</td>\n",
       "      <td>18944.000000</td>\n",
       "      <td>18944.000000</td>\n",
       "      <td>18944.000000</td>\n",
       "      <td>18944.000000</td>\n",
       "      <td>18944.000000</td>\n",
       "      <td>18944.000000</td>\n",
       "      <td>18944.000000</td>\n",
       "      <td>18944.0</td>\n",
       "      <td>18944.000000</td>\n",
       "      <td>18944.000000</td>\n",
       "      <td>18944.000000</td>\n",
       "    </tr>\n",
       "    <tr>\n",
       "      <th>mean</th>\n",
       "      <td>0.297253</td>\n",
       "      <td>0.467498</td>\n",
       "      <td>0.204287</td>\n",
       "      <td>0.663183</td>\n",
       "      <td>0.534217</td>\n",
       "      <td>0.433374</td>\n",
       "      <td>0.434390</td>\n",
       "      <td>0.351394</td>\n",
       "      <td>0.805268</td>\n",
       "      <td>0.566248</td>\n",
       "      <td>0.341008</td>\n",
       "      <td>0.0</td>\n",
       "      <td>0.387320</td>\n",
       "      <td>0.847498</td>\n",
       "      <td>0.286476</td>\n",
       "    </tr>\n",
       "    <tr>\n",
       "      <th>std</th>\n",
       "      <td>0.157599</td>\n",
       "      <td>0.199555</td>\n",
       "      <td>0.122130</td>\n",
       "      <td>0.263730</td>\n",
       "      <td>0.202146</td>\n",
       "      <td>0.256896</td>\n",
       "      <td>0.321747</td>\n",
       "      <td>0.349270</td>\n",
       "      <td>0.296539</td>\n",
       "      <td>0.495605</td>\n",
       "      <td>0.226326</td>\n",
       "      <td>0.0</td>\n",
       "      <td>0.110145</td>\n",
       "      <td>0.359516</td>\n",
       "      <td>0.452126</td>\n",
       "    </tr>\n",
       "    <tr>\n",
       "      <th>min</th>\n",
       "      <td>0.000000</td>\n",
       "      <td>0.000000</td>\n",
       "      <td>0.000000</td>\n",
       "      <td>0.000000</td>\n",
       "      <td>0.000000</td>\n",
       "      <td>0.000000</td>\n",
       "      <td>0.000000</td>\n",
       "      <td>0.000000</td>\n",
       "      <td>0.000000</td>\n",
       "      <td>0.000000</td>\n",
       "      <td>0.000000</td>\n",
       "      <td>0.0</td>\n",
       "      <td>0.000000</td>\n",
       "      <td>0.000000</td>\n",
       "      <td>0.000000</td>\n",
       "    </tr>\n",
       "    <tr>\n",
       "      <th>25%</th>\n",
       "      <td>0.164706</td>\n",
       "      <td>0.428571</td>\n",
       "      <td>0.118321</td>\n",
       "      <td>0.600000</td>\n",
       "      <td>0.428571</td>\n",
       "      <td>0.333333</td>\n",
       "      <td>0.153846</td>\n",
       "      <td>0.000000</td>\n",
       "      <td>0.500000</td>\n",
       "      <td>0.000000</td>\n",
       "      <td>0.166667</td>\n",
       "      <td>0.0</td>\n",
       "      <td>0.336634</td>\n",
       "      <td>1.000000</td>\n",
       "      <td>0.000000</td>\n",
       "    </tr>\n",
       "    <tr>\n",
       "      <th>50%</th>\n",
       "      <td>0.305882</td>\n",
       "      <td>0.428571</td>\n",
       "      <td>0.189389</td>\n",
       "      <td>0.733333</td>\n",
       "      <td>0.500000</td>\n",
       "      <td>0.333333</td>\n",
       "      <td>0.461538</td>\n",
       "      <td>0.200000</td>\n",
       "      <td>1.000000</td>\n",
       "      <td>1.000000</td>\n",
       "      <td>0.318182</td>\n",
       "      <td>0.0</td>\n",
       "      <td>0.376238</td>\n",
       "      <td>1.000000</td>\n",
       "      <td>0.000000</td>\n",
       "    </tr>\n",
       "    <tr>\n",
       "      <th>75%</th>\n",
       "      <td>0.388235</td>\n",
       "      <td>0.571429</td>\n",
       "      <td>0.271282</td>\n",
       "      <td>0.800000</td>\n",
       "      <td>0.714286</td>\n",
       "      <td>0.666667</td>\n",
       "      <td>0.692308</td>\n",
       "      <td>0.600000</td>\n",
       "      <td>1.000000</td>\n",
       "      <td>1.000000</td>\n",
       "      <td>0.500000</td>\n",
       "      <td>0.0</td>\n",
       "      <td>0.425743</td>\n",
       "      <td>1.000000</td>\n",
       "      <td>1.000000</td>\n",
       "    </tr>\n",
       "    <tr>\n",
       "      <th>max</th>\n",
       "      <td>1.000000</td>\n",
       "      <td>1.000000</td>\n",
       "      <td>1.000000</td>\n",
       "      <td>1.000000</td>\n",
       "      <td>1.000000</td>\n",
       "      <td>1.000000</td>\n",
       "      <td>1.000000</td>\n",
       "      <td>1.000000</td>\n",
       "      <td>1.000000</td>\n",
       "      <td>1.000000</td>\n",
       "      <td>1.000000</td>\n",
       "      <td>0.0</td>\n",
       "      <td>1.000000</td>\n",
       "      <td>1.000000</td>\n",
       "      <td>1.000000</td>\n",
       "    </tr>\n",
       "  </tbody>\n",
       "</table>\n",
       "</div>"
      ],
      "text/plain": [
       "                age     workclass        fnlwgt     education  education-num  \\\n",
       "count  18944.000000  18944.000000  18944.000000  18944.000000   18944.000000   \n",
       "mean       0.297253      0.467498      0.204287      0.663183       0.534217   \n",
       "std        0.157599      0.199555      0.122130      0.263730       0.202146   \n",
       "min        0.000000      0.000000      0.000000      0.000000       0.000000   \n",
       "25%        0.164706      0.428571      0.118321      0.600000       0.428571   \n",
       "50%        0.305882      0.428571      0.189389      0.733333       0.500000   \n",
       "75%        0.388235      0.571429      0.271282      0.800000       0.714286   \n",
       "max        1.000000      1.000000      1.000000      1.000000       1.000000   \n",
       "\n",
       "       marital-status    occupation  relationship          race           sex  \\\n",
       "count    18944.000000  18944.000000  18944.000000  18944.000000  18944.000000   \n",
       "mean         0.433374      0.434390      0.351394      0.805268      0.566248   \n",
       "std          0.256896      0.321747      0.349270      0.296539      0.495605   \n",
       "min          0.000000      0.000000      0.000000      0.000000      0.000000   \n",
       "25%          0.333333      0.153846      0.000000      0.500000      0.000000   \n",
       "50%          0.333333      0.461538      0.200000      1.000000      1.000000   \n",
       "75%          0.666667      0.692308      0.600000      1.000000      1.000000   \n",
       "max          1.000000      1.000000      1.000000      1.000000      1.000000   \n",
       "\n",
       "       capital-gain  capital-loss  hours-per-week  native-country  \\\n",
       "count  18944.000000       18944.0    18944.000000    18944.000000   \n",
       "mean       0.341008           0.0        0.387320        0.847498   \n",
       "std        0.226326           0.0        0.110145        0.359516   \n",
       "min        0.000000           0.0        0.000000        0.000000   \n",
       "25%        0.166667           0.0        0.336634        1.000000   \n",
       "50%        0.318182           0.0        0.376238        1.000000   \n",
       "75%        0.500000           0.0        0.425743        1.000000   \n",
       "max        1.000000           0.0        1.000000        1.000000   \n",
       "\n",
       "             income  \n",
       "count  18944.000000  \n",
       "mean       0.286476  \n",
       "std        0.452126  \n",
       "min        0.000000  \n",
       "25%        0.000000  \n",
       "50%        0.000000  \n",
       "75%        1.000000  \n",
       "max        1.000000  "
      ]
     },
     "execution_count": 339,
     "metadata": {},
     "output_type": "execute_result"
    }
   ],
   "source": [
    "df_mm.describe()"
   ]
  },
  {
   "cell_type": "code",
   "execution_count": 340,
   "id": "0d6eb25e",
   "metadata": {},
   "outputs": [
    {
     "data": {
      "text/html": [
       "<div>\n",
       "<style scoped>\n",
       "    .dataframe tbody tr th:only-of-type {\n",
       "        vertical-align: middle;\n",
       "    }\n",
       "\n",
       "    .dataframe tbody tr th {\n",
       "        vertical-align: top;\n",
       "    }\n",
       "\n",
       "    .dataframe thead th {\n",
       "        text-align: right;\n",
       "    }\n",
       "</style>\n",
       "<table border=\"1\" class=\"dataframe\">\n",
       "  <thead>\n",
       "    <tr style=\"text-align: right;\">\n",
       "      <th></th>\n",
       "      <th>age</th>\n",
       "      <th>workclass</th>\n",
       "      <th>fnlwgt</th>\n",
       "      <th>education</th>\n",
       "      <th>education-num</th>\n",
       "      <th>marital-status</th>\n",
       "      <th>occupation</th>\n",
       "      <th>relationship</th>\n",
       "      <th>race</th>\n",
       "      <th>sex</th>\n",
       "      <th>capital-gain</th>\n",
       "      <th>capital-loss</th>\n",
       "      <th>hours-per-week</th>\n",
       "      <th>native-country</th>\n",
       "      <th>income</th>\n",
       "    </tr>\n",
       "  </thead>\n",
       "  <tbody>\n",
       "    <tr>\n",
       "      <th>0</th>\n",
       "      <td>0.447059</td>\n",
       "      <td>0.428571</td>\n",
       "      <td>0.118837</td>\n",
       "      <td>0.733333</td>\n",
       "      <td>0.500000</td>\n",
       "      <td>0.666667</td>\n",
       "      <td>0.538462</td>\n",
       "      <td>0.8</td>\n",
       "      <td>1.0</td>\n",
       "      <td>1.0</td>\n",
       "      <td>0.196970</td>\n",
       "      <td>0.0</td>\n",
       "      <td>0.425743</td>\n",
       "      <td>1.0</td>\n",
       "      <td>0.0</td>\n",
       "    </tr>\n",
       "    <tr>\n",
       "      <th>1</th>\n",
       "      <td>0.729412</td>\n",
       "      <td>0.714286</td>\n",
       "      <td>0.162867</td>\n",
       "      <td>0.600000</td>\n",
       "      <td>0.714286</td>\n",
       "      <td>0.333333</td>\n",
       "      <td>0.846154</td>\n",
       "      <td>0.0</td>\n",
       "      <td>1.0</td>\n",
       "      <td>1.0</td>\n",
       "      <td>0.727273</td>\n",
       "      <td>0.0</td>\n",
       "      <td>0.425743</td>\n",
       "      <td>1.0</td>\n",
       "      <td>1.0</td>\n",
       "    </tr>\n",
       "    <tr>\n",
       "      <th>2</th>\n",
       "      <td>0.305882</td>\n",
       "      <td>0.428571</td>\n",
       "      <td>0.307514</td>\n",
       "      <td>0.600000</td>\n",
       "      <td>0.785714</td>\n",
       "      <td>0.333333</td>\n",
       "      <td>1.000000</td>\n",
       "      <td>0.0</td>\n",
       "      <td>0.0</td>\n",
       "      <td>1.0</td>\n",
       "      <td>0.530303</td>\n",
       "      <td>0.0</td>\n",
       "      <td>0.554455</td>\n",
       "      <td>1.0</td>\n",
       "      <td>1.0</td>\n",
       "    </tr>\n",
       "    <tr>\n",
       "      <th>3</th>\n",
       "      <td>0.729412</td>\n",
       "      <td>0.857143</td>\n",
       "      <td>0.226467</td>\n",
       "      <td>0.600000</td>\n",
       "      <td>0.714286</td>\n",
       "      <td>0.333333</td>\n",
       "      <td>0.692308</td>\n",
       "      <td>0.0</td>\n",
       "      <td>1.0</td>\n",
       "      <td>1.0</td>\n",
       "      <td>0.727273</td>\n",
       "      <td>0.0</td>\n",
       "      <td>0.425743</td>\n",
       "      <td>1.0</td>\n",
       "      <td>1.0</td>\n",
       "    </tr>\n",
       "    <tr>\n",
       "      <th>4</th>\n",
       "      <td>0.258824</td>\n",
       "      <td>0.571429</td>\n",
       "      <td>0.140346</td>\n",
       "      <td>0.800000</td>\n",
       "      <td>0.785714</td>\n",
       "      <td>0.000000</td>\n",
       "      <td>0.230769</td>\n",
       "      <td>0.2</td>\n",
       "      <td>1.0</td>\n",
       "      <td>1.0</td>\n",
       "      <td>0.424242</td>\n",
       "      <td>0.0</td>\n",
       "      <td>0.564356</td>\n",
       "      <td>1.0</td>\n",
       "      <td>0.0</td>\n",
       "    </tr>\n",
       "  </tbody>\n",
       "</table>\n",
       "</div>"
      ],
      "text/plain": [
       "        age  workclass    fnlwgt  education  education-num  marital-status  \\\n",
       "0  0.447059   0.428571  0.118837   0.733333       0.500000        0.666667   \n",
       "1  0.729412   0.714286  0.162867   0.600000       0.714286        0.333333   \n",
       "2  0.305882   0.428571  0.307514   0.600000       0.785714        0.333333   \n",
       "3  0.729412   0.857143  0.226467   0.600000       0.714286        0.333333   \n",
       "4  0.258824   0.571429  0.140346   0.800000       0.785714        0.000000   \n",
       "\n",
       "   occupation  relationship  race  sex  capital-gain  capital-loss  \\\n",
       "0    0.538462           0.8   1.0  1.0      0.196970           0.0   \n",
       "1    0.846154           0.0   1.0  1.0      0.727273           0.0   \n",
       "2    1.000000           0.0   0.0  1.0      0.530303           0.0   \n",
       "3    0.692308           0.0   1.0  1.0      0.727273           0.0   \n",
       "4    0.230769           0.2   1.0  1.0      0.424242           0.0   \n",
       "\n",
       "   hours-per-week  native-country  income  \n",
       "0        0.425743             1.0     0.0  \n",
       "1        0.425743             1.0     1.0  \n",
       "2        0.554455             1.0     1.0  \n",
       "3        0.425743             1.0     1.0  \n",
       "4        0.564356             1.0     0.0  "
      ]
     },
     "execution_count": 340,
     "metadata": {},
     "output_type": "execute_result"
    }
   ],
   "source": [
    "df_mm.head()"
   ]
  },
  {
   "cell_type": "markdown",
   "id": "b40c3cdb",
   "metadata": {},
   "source": [
    "<h4>know we will show the distribution of data</h4>"
   ]
  },
  {
   "cell_type": "code",
   "execution_count": 341,
   "id": "cd7f908d",
   "metadata": {},
   "outputs": [
    {
     "data": {
      "text/plain": [
       "<AxesSubplot:title={'center':'Original Distributions'}, xlabel='capital-gain', ylabel='Density'>"
      ]
     },
     "execution_count": 341,
     "metadata": {},
     "output_type": "execute_result"
    },
    {
     "data": {
      "image/png": "[encoded data removed]",
      "text/plain": [
       "<Figure size 720x576 with 1 Axes>"
      ]
     },
     "metadata": {
      "needs_background": "light"
     },
     "output_type": "display_data"
    }
   ],
   "source": [
    "fig, (ax1) = plot.subplots(ncols=1, figsize=(10, 8))\n",
    "ax1.set_title('Original Distributions')\n",
    "sn.kdeplot(datatrain['capital-gain'], ax=ax1)"
   ]
  },
  {
   "cell_type": "code",
   "execution_count": 342,
   "id": "2c058064",
   "metadata": {},
   "outputs": [
    {
     "data": {
      "text/plain": [
       "<AxesSubplot:title={'center':'Original Distributions'}, xlabel='race', ylabel='Density'>"
      ]
     },
     "execution_count": 342,
     "metadata": {},
     "output_type": "execute_result"
    },
    {
     "data": {
      "image/png": "[encoded data removed]",
      "text/plain": [
       "<Figure size 720x576 with 1 Axes>"
      ]
     },
     "metadata": {
      "needs_background": "light"
     },
     "output_type": "display_data"
    }
   ],
   "source": [
    "fig, (ax1) = plot.subplots(ncols=1, figsize=(10, 8))\n",
    "ax1.set_title('Original Distributions')\n",
    "\n",
    "sn.kdeplot(df_mm['race'], ax=ax1)\n"
   ]
  },
  {
   "cell_type": "code",
   "execution_count": 343,
   "id": "e31cde8d",
   "metadata": {},
   "outputs": [
    {
     "data": {
      "text/plain": [
       "<AxesSubplot:title={'center':'Original Distributions'}, xlabel='race', ylabel='Density'>"
      ]
     },
     "execution_count": 343,
     "metadata": {},
     "output_type": "execute_result"
    },
    {
     "data": {
      "image/png": "[encoded data removed]",
      "text/plain": [
       "<Figure size 720x576 with 1 Axes>"
      ]
     },
     "metadata": {
      "needs_background": "light"
     },
     "output_type": "display_data"
    }
   ],
   "source": [
    "datatrain\n",
    "fig, (ax1) = plot.subplots(ncols=1, figsize=(10, 8))\n",
    "ax1.set_title('Original Distributions')\n",
    "\n",
    "sn.kdeplot(datatrain['race'], ax=ax1)\n"
   ]
  },
  {
   "cell_type": "code",
   "execution_count": 344,
   "id": "667aa7f6",
   "metadata": {},
   "outputs": [
    {
     "data": {
      "text/plain": [
       "<AxesSubplot:title={'center':'Original Distributions'}, xlabel='age', ylabel='Density'>"
      ]
     },
     "execution_count": 344,
     "metadata": {},
     "output_type": "execute_result"
    },
    {
     "data": {
      "image/png": "[encoded data removed]",
      "text/plain": [
       "<Figure size 720x576 with 1 Axes>"
      ]
     },
     "metadata": {
      "needs_background": "light"
     },
     "output_type": "display_data"
    }
   ],
   "source": [
    "fig, (ax1) = plot.subplots(ncols=1, figsize=(10, 8))\n",
    "ax1.set_title('Original Distributions')\n",
    "\n",
    "sn.kdeplot(datatrainorg['age'], ax=ax1)"
   ]
  },
  {
   "cell_type": "markdown",
   "id": "18e216ca",
   "metadata": {},
   "source": [
    "<p>\n",
    " some opservation from the dataset:-<br>\n",
    "        <ol>\n",
    "            <li>\n",
    "                the age in range(20,30) and range(40,about 45) appears many time in dataset compared to the other values\n",
    "            </li>\n",
    "            <li>\n",
    "                the rase after label encoding  =4  and 2 appears many time in dataset compared to the other values\n",
    "            </li>\n",
    "            <li>\n",
    "                the most capital-gain has to many zeros\n",
    "            </li>\n",
    "        </ol>\n",
    "</p>"
   ]
  },
  {
   "cell_type": "markdown",
   "id": "826e8f1a",
   "metadata": {},
   "source": [
    "<h4>spliting the dataset to training and testing</h4>"
   ]
  },
  {
   "cell_type": "code",
   "execution_count": 345,
   "id": "54481fb0",
   "metadata": {},
   "outputs": [
    {
     "data": {
      "text/plain": [
       "Index(['age', 'workclass', 'fnlwgt', 'education', 'education-num',\n",
       "       'marital-status', 'occupation', 'relationship', 'race', 'sex',\n",
       "       'capital-gain', 'capital-loss', 'hours-per-week', 'native-country',\n",
       "       'income'],\n",
       "      dtype='object')"
      ]
     },
     "execution_count": 345,
     "metadata": {},
     "output_type": "execute_result"
    }
   ],
   "source": [
    "df_mm.columns\n"
   ]
  },
  {
   "cell_type": "code",
   "execution_count": 346,
   "id": "2968e000",
   "metadata": {},
   "outputs": [
    {
     "name": "stdout",
     "output_type": "stream",
     "text": [
      "age 's skew 0.43956651760013365\n",
      "workclass 's skew -0.05038836098536237\n",
      "fnlwgt 's skew 0.9456536258382225\n",
      "education 's skew -0.7736180282719789\n",
      "education-num 's skew -0.3192460922470348\n",
      "marital-status 's skew 0.016711862754069846\n",
      "occupation 's skew 0.05177895019046908\n",
      "relationship 's skew 0.41938487246416\n",
      "race 's skew -1.133962853913908\n",
      "sex 's skew -0.267369785452547\n",
      "capital-gain 's skew 0.34394146075252213\n",
      "capital-loss 's skew 0\n",
      "hours-per-week 's skew 0.2112791395590273\n",
      "native-country 's skew -1.9333448004866187\n",
      "income 's skew 0.9446324139563173\n"
     ]
    }
   ],
   "source": [
    "for col in df_mm.columns:\n",
    "    print(col,\"'s skew\", df_mm[col].skew())"
   ]
  },
  {
   "cell_type": "code",
   "execution_count": 347,
   "id": "46356846",
   "metadata": {},
   "outputs": [
    {
     "data": {
      "text/plain": [
       "array([1., 0.])"
      ]
     },
     "execution_count": 347,
     "metadata": {},
     "output_type": "execute_result"
    }
   ],
   "source": [
    "df_mm['native-country'].unique()"
   ]
  },
  {
   "cell_type": "code",
   "execution_count": 348,
   "id": "a822d25e",
   "metadata": {},
   "outputs": [],
   "source": [
    "df_mm.drop(['race'],axis=1,inplace=True)"
   ]
  },
  {
   "cell_type": "code",
   "execution_count": 349,
   "id": "4c8a4234",
   "metadata": {},
   "outputs": [],
   "source": [
    "df_mm.drop([\"capital-loss\"],axis=1,inplace=True)"
   ]
  },
  {
   "cell_type": "markdown",
   "id": "0da25673",
   "metadata": {},
   "source": [
    "<h3>now we will define the baseline for the accuracy</h3>"
   ]
  },
  {
   "cell_type": "code",
   "execution_count": 350,
   "id": "ccefacaa",
   "metadata": {},
   "outputs": [
    {
     "data": {
      "text/plain": [
       "0.0    0.713524\n",
       "1.0    0.286476\n",
       "Name: income, dtype: float64"
      ]
     },
     "execution_count": 350,
     "metadata": {},
     "output_type": "execute_result"
    }
   ],
   "source": [
    "df_mm[\"income\"].value_counts()/df_mm.shape[0]"
   ]
  },
  {
   "cell_type": "code",
   "execution_count": 351,
   "id": "77c5180d",
   "metadata": {},
   "outputs": [],
   "source": [
    "df_mm.drop([\"education-num\"],axis=1,inplace=True)"
   ]
  },
  {
   "cell_type": "code",
   "execution_count": 352,
   "id": "fa4a1fd1",
   "metadata": {},
   "outputs": [
    {
     "ename": "KeyError",
     "evalue": "\"['workclass'] not found in axis\"",
     "output_type": "error",
     "traceback": [
      "\u001b[1;31m---------------------------------------------------------------------------\u001b[0m",
      "\u001b[1;31mKeyError\u001b[0m                                  Traceback (most recent call last)",
      "\u001b[1;32m<ipython-input-352-f19f0ba1d557>\u001b[0m in \u001b[0;36m<module>\u001b[1;34m\u001b[0m\n\u001b[0;32m      2\u001b[0m \u001b[0mdf_mm\u001b[0m\u001b[1;33m.\u001b[0m\u001b[0mdrop\u001b[0m\u001b[1;33m(\u001b[0m\u001b[1;33m[\u001b[0m\u001b[1;34m\"workclass\"\u001b[0m\u001b[1;33m]\u001b[0m\u001b[1;33m,\u001b[0m\u001b[0maxis\u001b[0m\u001b[1;33m=\u001b[0m\u001b[1;36m1\u001b[0m\u001b[1;33m,\u001b[0m\u001b[0minplace\u001b[0m\u001b[1;33m=\u001b[0m\u001b[1;32mTrue\u001b[0m\u001b[1;33m)\u001b[0m\u001b[1;33m\u001b[0m\u001b[1;33m\u001b[0m\u001b[0m\n\u001b[0;32m      3\u001b[0m \u001b[0mdf_mm\u001b[0m\u001b[1;33m.\u001b[0m\u001b[0mdrop\u001b[0m\u001b[1;33m(\u001b[0m\u001b[1;33m[\u001b[0m\u001b[1;34m\"education\"\u001b[0m\u001b[1;33m]\u001b[0m\u001b[1;33m,\u001b[0m\u001b[0maxis\u001b[0m\u001b[1;33m=\u001b[0m\u001b[1;36m1\u001b[0m\u001b[1;33m,\u001b[0m\u001b[0minplace\u001b[0m\u001b[1;33m=\u001b[0m\u001b[1;32mTrue\u001b[0m\u001b[1;33m)\u001b[0m\u001b[1;33m\u001b[0m\u001b[1;33m\u001b[0m\u001b[0m\n\u001b[1;32m----> 4\u001b[1;33m \u001b[0mdf_mm\u001b[0m\u001b[1;33m.\u001b[0m\u001b[0mdrop\u001b[0m\u001b[1;33m(\u001b[0m\u001b[1;33m[\u001b[0m\u001b[1;34m\"workclass\"\u001b[0m\u001b[1;33m]\u001b[0m\u001b[1;33m,\u001b[0m\u001b[0maxis\u001b[0m\u001b[1;33m=\u001b[0m\u001b[1;36m1\u001b[0m\u001b[1;33m,\u001b[0m\u001b[0minplace\u001b[0m\u001b[1;33m=\u001b[0m\u001b[1;32mTrue\u001b[0m\u001b[1;33m)\u001b[0m\u001b[1;33m\u001b[0m\u001b[1;33m\u001b[0m\u001b[0m\n\u001b[0m",
      "\u001b[1;32m~\\anacona\\lib\\site-packages\\pandas\\core\\frame.py\u001b[0m in \u001b[0;36mdrop\u001b[1;34m(self, labels, axis, index, columns, level, inplace, errors)\u001b[0m\n\u001b[0;32m   4306\u001b[0m                 \u001b[0mweight\u001b[0m  \u001b[1;36m1.0\u001b[0m     \u001b[1;36m0.8\u001b[0m\u001b[1;33m\u001b[0m\u001b[1;33m\u001b[0m\u001b[0m\n\u001b[0;32m   4307\u001b[0m         \"\"\"\n\u001b[1;32m-> 4308\u001b[1;33m         return super().drop(\n\u001b[0m\u001b[0;32m   4309\u001b[0m             \u001b[0mlabels\u001b[0m\u001b[1;33m=\u001b[0m\u001b[0mlabels\u001b[0m\u001b[1;33m,\u001b[0m\u001b[1;33m\u001b[0m\u001b[1;33m\u001b[0m\u001b[0m\n\u001b[0;32m   4310\u001b[0m             \u001b[0maxis\u001b[0m\u001b[1;33m=\u001b[0m\u001b[0maxis\u001b[0m\u001b[1;33m,\u001b[0m\u001b[1;33m\u001b[0m\u001b[1;33m\u001b[0m\u001b[0m\n",
      "\u001b[1;32m~\\anacona\\lib\\site-packages\\pandas\\core\\generic.py\u001b[0m in \u001b[0;36mdrop\u001b[1;34m(self, labels, axis, index, columns, level, inplace, errors)\u001b[0m\n\u001b[0;32m   4151\u001b[0m         \u001b[1;32mfor\u001b[0m \u001b[0maxis\u001b[0m\u001b[1;33m,\u001b[0m \u001b[0mlabels\u001b[0m \u001b[1;32min\u001b[0m \u001b[0maxes\u001b[0m\u001b[1;33m.\u001b[0m\u001b[0mitems\u001b[0m\u001b[1;33m(\u001b[0m\u001b[1;33m)\u001b[0m\u001b[1;33m:\u001b[0m\u001b[1;33m\u001b[0m\u001b[1;33m\u001b[0m\u001b[0m\n\u001b[0;32m   4152\u001b[0m             \u001b[1;32mif\u001b[0m \u001b[0mlabels\u001b[0m \u001b[1;32mis\u001b[0m \u001b[1;32mnot\u001b[0m \u001b[1;32mNone\u001b[0m\u001b[1;33m:\u001b[0m\u001b[1;33m\u001b[0m\u001b[1;33m\u001b[0m\u001b[0m\n\u001b[1;32m-> 4153\u001b[1;33m                 \u001b[0mobj\u001b[0m \u001b[1;33m=\u001b[0m \u001b[0mobj\u001b[0m\u001b[1;33m.\u001b[0m\u001b[0m_drop_axis\u001b[0m\u001b[1;33m(\u001b[0m\u001b[0mlabels\u001b[0m\u001b[1;33m,\u001b[0m \u001b[0maxis\u001b[0m\u001b[1;33m,\u001b[0m \u001b[0mlevel\u001b[0m\u001b[1;33m=\u001b[0m\u001b[0mlevel\u001b[0m\u001b[1;33m,\u001b[0m \u001b[0merrors\u001b[0m\u001b[1;33m=\u001b[0m\u001b[0merrors\u001b[0m\u001b[1;33m)\u001b[0m\u001b[1;33m\u001b[0m\u001b[1;33m\u001b[0m\u001b[0m\n\u001b[0m\u001b[0;32m   4154\u001b[0m \u001b[1;33m\u001b[0m\u001b[0m\n\u001b[0;32m   4155\u001b[0m         \u001b[1;32mif\u001b[0m \u001b[0minplace\u001b[0m\u001b[1;33m:\u001b[0m\u001b[1;33m\u001b[0m\u001b[1;33m\u001b[0m\u001b[0m\n",
      "\u001b[1;32m~\\anacona\\lib\\site-packages\\pandas\\core\\generic.py\u001b[0m in \u001b[0;36m_drop_axis\u001b[1;34m(self, labels, axis, level, errors)\u001b[0m\n\u001b[0;32m   4186\u001b[0m                 \u001b[0mnew_axis\u001b[0m \u001b[1;33m=\u001b[0m \u001b[0maxis\u001b[0m\u001b[1;33m.\u001b[0m\u001b[0mdrop\u001b[0m\u001b[1;33m(\u001b[0m\u001b[0mlabels\u001b[0m\u001b[1;33m,\u001b[0m \u001b[0mlevel\u001b[0m\u001b[1;33m=\u001b[0m\u001b[0mlevel\u001b[0m\u001b[1;33m,\u001b[0m \u001b[0merrors\u001b[0m\u001b[1;33m=\u001b[0m\u001b[0merrors\u001b[0m\u001b[1;33m)\u001b[0m\u001b[1;33m\u001b[0m\u001b[1;33m\u001b[0m\u001b[0m\n\u001b[0;32m   4187\u001b[0m             \u001b[1;32melse\u001b[0m\u001b[1;33m:\u001b[0m\u001b[1;33m\u001b[0m\u001b[1;33m\u001b[0m\u001b[0m\n\u001b[1;32m-> 4188\u001b[1;33m                 \u001b[0mnew_axis\u001b[0m \u001b[1;33m=\u001b[0m \u001b[0maxis\u001b[0m\u001b[1;33m.\u001b[0m\u001b[0mdrop\u001b[0m\u001b[1;33m(\u001b[0m\u001b[0mlabels\u001b[0m\u001b[1;33m,\u001b[0m \u001b[0merrors\u001b[0m\u001b[1;33m=\u001b[0m\u001b[0merrors\u001b[0m\u001b[1;33m)\u001b[0m\u001b[1;33m\u001b[0m\u001b[1;33m\u001b[0m\u001b[0m\n\u001b[0m\u001b[0;32m   4189\u001b[0m             \u001b[0mresult\u001b[0m \u001b[1;33m=\u001b[0m \u001b[0mself\u001b[0m\u001b[1;33m.\u001b[0m\u001b[0mreindex\u001b[0m\u001b[1;33m(\u001b[0m\u001b[1;33m**\u001b[0m\u001b[1;33m{\u001b[0m\u001b[0maxis_name\u001b[0m\u001b[1;33m:\u001b[0m \u001b[0mnew_axis\u001b[0m\u001b[1;33m}\u001b[0m\u001b[1;33m)\u001b[0m\u001b[1;33m\u001b[0m\u001b[1;33m\u001b[0m\u001b[0m\n\u001b[0;32m   4190\u001b[0m \u001b[1;33m\u001b[0m\u001b[0m\n",
      "\u001b[1;32m~\\anacona\\lib\\site-packages\\pandas\\core\\indexes\\base.py\u001b[0m in \u001b[0;36mdrop\u001b[1;34m(self, labels, errors)\u001b[0m\n\u001b[0;32m   5589\u001b[0m         \u001b[1;32mif\u001b[0m \u001b[0mmask\u001b[0m\u001b[1;33m.\u001b[0m\u001b[0many\u001b[0m\u001b[1;33m(\u001b[0m\u001b[1;33m)\u001b[0m\u001b[1;33m:\u001b[0m\u001b[1;33m\u001b[0m\u001b[1;33m\u001b[0m\u001b[0m\n\u001b[0;32m   5590\u001b[0m             \u001b[1;32mif\u001b[0m \u001b[0merrors\u001b[0m \u001b[1;33m!=\u001b[0m \u001b[1;34m\"ignore\"\u001b[0m\u001b[1;33m:\u001b[0m\u001b[1;33m\u001b[0m\u001b[1;33m\u001b[0m\u001b[0m\n\u001b[1;32m-> 5591\u001b[1;33m                 \u001b[1;32mraise\u001b[0m \u001b[0mKeyError\u001b[0m\u001b[1;33m(\u001b[0m\u001b[1;34mf\"{labels[mask]} not found in axis\"\u001b[0m\u001b[1;33m)\u001b[0m\u001b[1;33m\u001b[0m\u001b[1;33m\u001b[0m\u001b[0m\n\u001b[0m\u001b[0;32m   5592\u001b[0m             \u001b[0mindexer\u001b[0m \u001b[1;33m=\u001b[0m \u001b[0mindexer\u001b[0m\u001b[1;33m[\u001b[0m\u001b[1;33m~\u001b[0m\u001b[0mmask\u001b[0m\u001b[1;33m]\u001b[0m\u001b[1;33m\u001b[0m\u001b[1;33m\u001b[0m\u001b[0m\n\u001b[0;32m   5593\u001b[0m         \u001b[1;32mreturn\u001b[0m \u001b[0mself\u001b[0m\u001b[1;33m.\u001b[0m\u001b[0mdelete\u001b[0m\u001b[1;33m(\u001b[0m\u001b[0mindexer\u001b[0m\u001b[1;33m)\u001b[0m\u001b[1;33m\u001b[0m\u001b[1;33m\u001b[0m\u001b[0m\n",
      "\u001b[1;31mKeyError\u001b[0m: \"['workclass'] not found in axis\""
     ]
    }
   ],
   "source": [
    "df_mm.drop([\"marital-status\"],axis=1,inplace=True)\n",
    "df_mm.drop([\"workclass\"],axis=1,inplace=True)\n",
    "df_mm.drop([\"education\"],axis=1,inplace=True)\n",
    "df_mm.drop([\"workclass\"],axis=1,inplace=True)"
   ]
  },
  {
   "cell_type": "code",
   "execution_count": 353,
   "id": "b710c14f",
   "metadata": {},
   "outputs": [
    {
     "name": "stdout",
     "output_type": "stream",
     "text": [
      "Index(['age', 'fnlwgt', 'occupation', 'relationship', 'sex', 'capital-gain',\n",
      "       'hours-per-week', 'native-country', 'income'],\n",
      "      dtype='object')\n"
     ]
    }
   ],
   "source": [
    "list_of_columns=df_mm.columns\n",
    "print(list_of_columns)"
   ]
  },
  {
   "cell_type": "code",
   "execution_count": 354,
   "id": "8f8710fc",
   "metadata": {},
   "outputs": [],
   "source": [
    "from statsmodels.stats.outliers_influence import variance_inflation_factor\n",
    "def calc_vif(X):\n",
    "    # Calculating VIF\n",
    "    vif = pn.DataFrame()\n",
    "    vif[\"variables\"] = X.columns\n",
    "    vif[\"VIF\"] = [variance_inflation_factor(X.values, i) for i in range(X.shape[1])]\n",
    "    return(vif)"
   ]
  },
  {
   "cell_type": "code",
   "execution_count": 355,
   "id": "a32e9c28",
   "metadata": {},
   "outputs": [
    {
     "data": {
      "text/html": [
       "<div>\n",
       "<style scoped>\n",
       "    .dataframe tbody tr th:only-of-type {\n",
       "        vertical-align: middle;\n",
       "    }\n",
       "\n",
       "    .dataframe tbody tr th {\n",
       "        vertical-align: top;\n",
       "    }\n",
       "\n",
       "    .dataframe thead th {\n",
       "        text-align: right;\n",
       "    }\n",
       "</style>\n",
       "<table border=\"1\" class=\"dataframe\">\n",
       "  <thead>\n",
       "    <tr style=\"text-align: right;\">\n",
       "      <th></th>\n",
       "      <th>variables</th>\n",
       "      <th>VIF</th>\n",
       "    </tr>\n",
       "  </thead>\n",
       "  <tbody>\n",
       "    <tr>\n",
       "      <th>0</th>\n",
       "      <td>age</td>\n",
       "      <td>4.536956</td>\n",
       "    </tr>\n",
       "    <tr>\n",
       "      <th>1</th>\n",
       "      <td>fnlwgt</td>\n",
       "      <td>3.385431</td>\n",
       "    </tr>\n",
       "    <tr>\n",
       "      <th>2</th>\n",
       "      <td>occupation</td>\n",
       "      <td>2.754751</td>\n",
       "    </tr>\n",
       "    <tr>\n",
       "      <th>3</th>\n",
       "      <td>relationship</td>\n",
       "      <td>2.309092</td>\n",
       "    </tr>\n",
       "    <tr>\n",
       "      <th>4</th>\n",
       "      <td>sex</td>\n",
       "      <td>3.285610</td>\n",
       "    </tr>\n",
       "    <tr>\n",
       "      <th>5</th>\n",
       "      <td>capital-gain</td>\n",
       "      <td>3.248168</td>\n",
       "    </tr>\n",
       "    <tr>\n",
       "      <th>6</th>\n",
       "      <td>hours-per-week</td>\n",
       "      <td>10.324775</td>\n",
       "    </tr>\n",
       "    <tr>\n",
       "      <th>7</th>\n",
       "      <td>native-country</td>\n",
       "      <td>5.663087</td>\n",
       "    </tr>\n",
       "  </tbody>\n",
       "</table>\n",
       "</div>"
      ],
      "text/plain": [
       "        variables        VIF\n",
       "0             age   4.536956\n",
       "1          fnlwgt   3.385431\n",
       "2      occupation   2.754751\n",
       "3    relationship   2.309092\n",
       "4             sex   3.285610\n",
       "5    capital-gain   3.248168\n",
       "6  hours-per-week  10.324775\n",
       "7  native-country   5.663087"
      ]
     },
     "execution_count": 355,
     "metadata": {},
     "output_type": "execute_result"
    }
   ],
   "source": [
    "X = df_mm.iloc[:,:-1]\n",
    "calc_vif(X)"
   ]
  },
  {
   "cell_type": "code",
   "execution_count": 356,
   "id": "05f93afd",
   "metadata": {},
   "outputs": [
    {
     "data": {
      "image/png": "[encoded data removed]",
      "text/plain": [
       "<Figure size 432x288 with 1 Axes>"
      ]
     },
     "metadata": {
      "needs_background": "light"
     },
     "output_type": "display_data"
    }
   ],
   "source": [
    "plot.boxplot(main_feature[\"capital-gain\"])\n",
    "plot.show()"
   ]
  },
  {
   "cell_type": "code",
   "execution_count": 357,
   "id": "1d1fc437",
   "metadata": {},
   "outputs": [
    {
     "name": "stdout",
     "output_type": "stream",
     "text": [
      "(18944, 9)\n"
     ]
    }
   ],
   "source": [
    "df_mm.head()\n",
    "x=df_mm.iloc[:,:-1].values\n",
    "y=df_mm.iloc[:,-1].values\n",
    "print(df_mm.shape)"
   ]
  },
  {
   "cell_type": "code",
   "execution_count": 358,
   "id": "79e04592",
   "metadata": {},
   "outputs": [],
   "source": [
    "from sklearn.model_selection import train_test_split\n",
    "x_train,x_test,y_train,y_test=train_test_split(x, y, test_size = 0.4, random_state = 3)\n",
    "df_mm.head()\n",
    "x_train, x_val, y_train, y_val = train_test_split(x_train,\n",
    "y_train,test_size=0.1,random_state=3)"
   ]
  },
  {
   "cell_type": "code",
   "execution_count": 363,
   "id": "9423086e",
   "metadata": {
    "scrolled": true
   },
   "outputs": [
    {
     "name": "stdout",
     "output_type": "stream",
     "text": [
      "Epoch 1/75\n",
      "320/320 [==============================] - 1s 1ms/step - loss: 0.1793 - accuracy: 0.7362 - val_loss: 0.1665 - val_accuracy: 0.7546\n",
      "Epoch 2/75\n",
      "320/320 [==============================] - 0s 1ms/step - loss: 0.1637 - accuracy: 0.7649 - val_loss: 0.1660 - val_accuracy: 0.7564\n",
      "Epoch 3/75\n",
      "320/320 [==============================] - 0s 1ms/step - loss: 0.1597 - accuracy: 0.7657 - val_loss: 0.1643 - val_accuracy: 0.7555\n",
      "Epoch 4/75\n",
      "320/320 [==============================] - 0s 1ms/step - loss: 0.1565 - accuracy: 0.7686 - val_loss: 0.1580 - val_accuracy: 0.7661\n",
      "Epoch 5/75\n",
      "320/320 [==============================] - 0s 1ms/step - loss: 0.1535 - accuracy: 0.7714 - val_loss: 0.1585 - val_accuracy: 0.7617\n",
      "Epoch 6/75\n",
      "320/320 [==============================] - 0s 1ms/step - loss: 0.1519 - accuracy: 0.7732 - val_loss: 0.1546 - val_accuracy: 0.7599\n",
      "Epoch 7/75\n",
      "320/320 [==============================] - 0s 1ms/step - loss: 0.1499 - accuracy: 0.7734 - val_loss: 0.1553 - val_accuracy: 0.7625\n",
      "Epoch 8/75\n",
      "320/320 [==============================] - 0s 1ms/step - loss: 0.1488 - accuracy: 0.7751 - val_loss: 0.1522 - val_accuracy: 0.7634\n",
      "Epoch 9/75\n",
      "320/320 [==============================] - 0s 1ms/step - loss: 0.1476 - accuracy: 0.7778 - val_loss: 0.1508 - val_accuracy: 0.7608\n",
      "Epoch 10/75\n",
      "320/320 [==============================] - 0s 1ms/step - loss: 0.1466 - accuracy: 0.7785 - val_loss: 0.1517 - val_accuracy: 0.7608\n",
      "Epoch 11/75\n",
      "320/320 [==============================] - 0s 1ms/step - loss: 0.1459 - accuracy: 0.7795 - val_loss: 0.1497 - val_accuracy: 0.7661\n",
      "Epoch 12/75\n",
      "320/320 [==============================] - 0s 1ms/step - loss: 0.1448 - accuracy: 0.7835 - val_loss: 0.1485 - val_accuracy: 0.7766\n",
      "Epoch 13/75\n",
      "320/320 [==============================] - 0s 1ms/step - loss: 0.1444 - accuracy: 0.7843 - val_loss: 0.1482 - val_accuracy: 0.7687\n",
      "Epoch 14/75\n",
      "320/320 [==============================] - 0s 1ms/step - loss: 0.1437 - accuracy: 0.7842 - val_loss: 0.1481 - val_accuracy: 0.7757\n",
      "Epoch 15/75\n",
      "320/320 [==============================] - 0s 1ms/step - loss: 0.1434 - accuracy: 0.7838 - val_loss: 0.1483 - val_accuracy: 0.7687\n",
      "Epoch 16/75\n",
      "320/320 [==============================] - 0s 1ms/step - loss: 0.1428 - accuracy: 0.7843 - val_loss: 0.1478 - val_accuracy: 0.7687\n",
      "Epoch 17/75\n",
      "320/320 [==============================] - 0s 1ms/step - loss: 0.1424 - accuracy: 0.7862 - val_loss: 0.1471 - val_accuracy: 0.7696\n",
      "Epoch 18/75\n",
      "320/320 [==============================] - 0s 1ms/step - loss: 0.1421 - accuracy: 0.7873 - val_loss: 0.1479 - val_accuracy: 0.7678\n",
      "Epoch 19/75\n",
      "320/320 [==============================] - 0s 1ms/step - loss: 0.1417 - accuracy: 0.7873 - val_loss: 0.1458 - val_accuracy: 0.7722\n",
      "Epoch 20/75\n",
      "320/320 [==============================] - 0s 1ms/step - loss: 0.1413 - accuracy: 0.7890 - val_loss: 0.1475 - val_accuracy: 0.7713\n",
      "Epoch 21/75\n",
      "320/320 [==============================] - 0s 1ms/step - loss: 0.1410 - accuracy: 0.7870 - val_loss: 0.1455 - val_accuracy: 0.7757\n",
      "Epoch 22/75\n",
      "320/320 [==============================] - 0s 1ms/step - loss: 0.1406 - accuracy: 0.7896 - val_loss: 0.1456 - val_accuracy: 0.7784\n",
      "Epoch 23/75\n",
      "320/320 [==============================] - 0s 1ms/step - loss: 0.1408 - accuracy: 0.7892 - val_loss: 0.1451 - val_accuracy: 0.7757\n",
      "Epoch 24/75\n",
      "320/320 [==============================] - 0s 1ms/step - loss: 0.1399 - accuracy: 0.7906 - val_loss: 0.1456 - val_accuracy: 0.7731\n",
      "Epoch 25/75\n",
      "320/320 [==============================] - 0s 1ms/step - loss: 0.1401 - accuracy: 0.7908 - val_loss: 0.1452 - val_accuracy: 0.7792\n",
      "Epoch 26/75\n",
      "320/320 [==============================] - 0s 1ms/step - loss: 0.1397 - accuracy: 0.7910 - val_loss: 0.1460 - val_accuracy: 0.7678\n",
      "Epoch 27/75\n",
      "320/320 [==============================] - 0s 1ms/step - loss: 0.1397 - accuracy: 0.7895 - val_loss: 0.1451 - val_accuracy: 0.7713\n",
      "Epoch 28/75\n",
      "320/320 [==============================] - 0s 1ms/step - loss: 0.1391 - accuracy: 0.7935 - val_loss: 0.1447 - val_accuracy: 0.7792\n",
      "Epoch 29/75\n",
      "320/320 [==============================] - 0s 1ms/step - loss: 0.1392 - accuracy: 0.7919 - val_loss: 0.1451 - val_accuracy: 0.7801\n",
      "Epoch 30/75\n",
      "320/320 [==============================] - 0s 1ms/step - loss: 0.1394 - accuracy: 0.7942 - val_loss: 0.1450 - val_accuracy: 0.7731\n",
      "Epoch 31/75\n",
      "320/320 [==============================] - 0s 1ms/step - loss: 0.1381 - accuracy: 0.7954 - val_loss: 0.1451 - val_accuracy: 0.7748\n",
      "Epoch 32/75\n",
      "320/320 [==============================] - 0s 1ms/step - loss: 0.1383 - accuracy: 0.7964 - val_loss: 0.1500 - val_accuracy: 0.7713\n",
      "Epoch 33/75\n",
      "320/320 [==============================] - 0s 1ms/step - loss: 0.1382 - accuracy: 0.7933 - val_loss: 0.1429 - val_accuracy: 0.7819\n",
      "Epoch 34/75\n",
      "320/320 [==============================] - 0s 1ms/step - loss: 0.1379 - accuracy: 0.7963 - val_loss: 0.1426 - val_accuracy: 0.7836\n",
      "Epoch 35/75\n",
      "320/320 [==============================] - 0s 1ms/step - loss: 0.1378 - accuracy: 0.7956 - val_loss: 0.1424 - val_accuracy: 0.7854\n",
      "Epoch 36/75\n",
      "320/320 [==============================] - 0s 1ms/step - loss: 0.1376 - accuracy: 0.7964 - val_loss: 0.1435 - val_accuracy: 0.7784\n",
      "Epoch 37/75\n",
      "320/320 [==============================] - 0s 1ms/step - loss: 0.1368 - accuracy: 0.7975 - val_loss: 0.1447 - val_accuracy: 0.7854\n",
      "Epoch 38/75\n",
      "320/320 [==============================] - 0s 1ms/step - loss: 0.1374 - accuracy: 0.7953 - val_loss: 0.1426 - val_accuracy: 0.7792\n",
      "Epoch 39/75\n",
      "320/320 [==============================] - 0s 1ms/step - loss: 0.1371 - accuracy: 0.7968 - val_loss: 0.1426 - val_accuracy: 0.7792\n",
      "Epoch 40/75\n",
      "320/320 [==============================] - 0s 1ms/step - loss: 0.1368 - accuracy: 0.7995 - val_loss: 0.1439 - val_accuracy: 0.7907\n",
      "Epoch 41/75\n",
      "320/320 [==============================] - 0s 1ms/step - loss: 0.1366 - accuracy: 0.7985 - val_loss: 0.1427 - val_accuracy: 0.7766\n",
      "Epoch 42/75\n",
      "320/320 [==============================] - 0s 1ms/step - loss: 0.1365 - accuracy: 0.7980 - val_loss: 0.1431 - val_accuracy: 0.7757\n",
      "Epoch 43/75\n",
      "320/320 [==============================] - 0s 1ms/step - loss: 0.1365 - accuracy: 0.8020 - val_loss: 0.1439 - val_accuracy: 0.7801\n",
      "Epoch 44/75\n",
      "320/320 [==============================] - 0s 1ms/step - loss: 0.1365 - accuracy: 0.7978 - val_loss: 0.1418 - val_accuracy: 0.7766\n",
      "Epoch 45/75\n",
      "320/320 [==============================] - 0s 1ms/step - loss: 0.1360 - accuracy: 0.7966 - val_loss: 0.1424 - val_accuracy: 0.7792\n",
      "Epoch 46/75\n",
      "320/320 [==============================] - 0s 1ms/step - loss: 0.1359 - accuracy: 0.8010 - val_loss: 0.1420 - val_accuracy: 0.7792\n",
      "Epoch 47/75\n",
      "320/320 [==============================] - 0s 1ms/step - loss: 0.1359 - accuracy: 0.7990 - val_loss: 0.1421 - val_accuracy: 0.7836\n",
      "Epoch 48/75\n",
      "320/320 [==============================] - 0s 1ms/step - loss: 0.1355 - accuracy: 0.8001 - val_loss: 0.1415 - val_accuracy: 0.7880\n",
      "Epoch 49/75\n",
      "320/320 [==============================] - 0s 1ms/step - loss: 0.1349 - accuracy: 0.8035 - val_loss: 0.1412 - val_accuracy: 0.7836\n",
      "Epoch 50/75\n",
      "320/320 [==============================] - 0s 1ms/step - loss: 0.1354 - accuracy: 0.8014 - val_loss: 0.1448 - val_accuracy: 0.7792\n",
      "Epoch 51/75\n",
      "320/320 [==============================] - 0s 1ms/step - loss: 0.1350 - accuracy: 0.8013 - val_loss: 0.1409 - val_accuracy: 0.7810\n",
      "Epoch 52/75\n",
      "320/320 [==============================] - 0s 1ms/step - loss: 0.1351 - accuracy: 0.7984 - val_loss: 0.1413 - val_accuracy: 0.7766\n",
      "Epoch 53/75\n",
      "320/320 [==============================] - 0s 1ms/step - loss: 0.1358 - accuracy: 0.7980 - val_loss: 0.1406 - val_accuracy: 0.7810\n",
      "Epoch 54/75\n",
      "320/320 [==============================] - 0s 1ms/step - loss: 0.1348 - accuracy: 0.8025 - val_loss: 0.1406 - val_accuracy: 0.7872\n",
      "Epoch 55/75\n",
      "320/320 [==============================] - 0s 1ms/step - loss: 0.1346 - accuracy: 0.8052 - val_loss: 0.1417 - val_accuracy: 0.7810\n",
      "Epoch 56/75\n",
      "320/320 [==============================] - 0s 1ms/step - loss: 0.1342 - accuracy: 0.8032 - val_loss: 0.1420 - val_accuracy: 0.7801\n",
      "Epoch 57/75\n",
      "320/320 [==============================] - 0s 1ms/step - loss: 0.1339 - accuracy: 0.8040 - val_loss: 0.1414 - val_accuracy: 0.7916\n",
      "Epoch 58/75\n"
     ]
    },
    {
     "name": "stdout",
     "output_type": "stream",
     "text": [
      "320/320 [==============================] - 0s 1ms/step - loss: 0.1346 - accuracy: 0.8036 - val_loss: 0.1415 - val_accuracy: 0.7792\n",
      "Epoch 59/75\n",
      "320/320 [==============================] - 0s 1ms/step - loss: 0.1343 - accuracy: 0.8036 - val_loss: 0.1404 - val_accuracy: 0.7792\n",
      "Epoch 60/75\n",
      "320/320 [==============================] - 0s 1ms/step - loss: 0.1341 - accuracy: 0.8006 - val_loss: 0.1405 - val_accuracy: 0.8004\n",
      "Epoch 61/75\n",
      "320/320 [==============================] - 0s 1ms/step - loss: 0.1339 - accuracy: 0.8028 - val_loss: 0.1401 - val_accuracy: 0.7801\n",
      "Epoch 62/75\n",
      "320/320 [==============================] - 0s 1ms/step - loss: 0.1341 - accuracy: 0.8066 - val_loss: 0.1420 - val_accuracy: 0.7801\n",
      "Epoch 63/75\n",
      "320/320 [==============================] - 0s 1ms/step - loss: 0.1339 - accuracy: 0.8046 - val_loss: 0.1419 - val_accuracy: 0.7854\n",
      "Epoch 64/75\n",
      "320/320 [==============================] - 0s 1ms/step - loss: 0.1336 - accuracy: 0.8029 - val_loss: 0.1412 - val_accuracy: 0.7872\n",
      "Epoch 65/75\n",
      "320/320 [==============================] - 0s 1ms/step - loss: 0.1335 - accuracy: 0.8038 - val_loss: 0.1411 - val_accuracy: 0.7863\n",
      "Epoch 66/75\n",
      "320/320 [==============================] - 0s 1ms/step - loss: 0.1330 - accuracy: 0.8048 - val_loss: 0.1411 - val_accuracy: 0.7845\n",
      "Epoch 67/75\n",
      "320/320 [==============================] - 0s 1ms/step - loss: 0.1334 - accuracy: 0.8039 - val_loss: 0.1418 - val_accuracy: 0.7854\n",
      "Epoch 68/75\n",
      "320/320 [==============================] - 0s 1ms/step - loss: 0.1336 - accuracy: 0.8054 - val_loss: 0.1406 - val_accuracy: 0.7863\n",
      "Epoch 69/75\n",
      "320/320 [==============================] - 0s 1ms/step - loss: 0.1332 - accuracy: 0.8048 - val_loss: 0.1439 - val_accuracy: 0.7801\n",
      "Epoch 70/75\n",
      "320/320 [==============================] - 0s 1ms/step - loss: 0.1335 - accuracy: 0.8020 - val_loss: 0.1414 - val_accuracy: 0.7898\n",
      "Epoch 71/75\n",
      "320/320 [==============================] - 0s 1ms/step - loss: 0.1340 - accuracy: 0.8010 - val_loss: 0.1420 - val_accuracy: 0.7863\n",
      "Epoch 72/75\n",
      "320/320 [==============================] - 0s 1ms/step - loss: 0.1328 - accuracy: 0.8059 - val_loss: 0.1404 - val_accuracy: 0.7872\n",
      "Epoch 73/75\n",
      "320/320 [==============================] - 0s 1ms/step - loss: 0.1335 - accuracy: 0.8052 - val_loss: 0.1419 - val_accuracy: 0.7907\n",
      "Epoch 74/75\n",
      "320/320 [==============================] - 0s 1ms/step - loss: 0.1331 - accuracy: 0.8049 - val_loss: 0.1398 - val_accuracy: 0.7872\n",
      "Epoch 75/75\n",
      "320/320 [==============================] - 0s 1ms/step - loss: 0.1326 - accuracy: 0.8054 - val_loss: 0.1464 - val_accuracy: 0.7810\n"
     ]
    },
    {
     "data": {
      "text/plain": [
       "<keras.callbacks.History at 0x200e8ca0>"
      ]
     },
     "execution_count": 363,
     "metadata": {},
     "output_type": "execute_result"
    }
   ],
   "source": [
    "import keras\n",
    "from keras.callbacks import History\n",
    "history = History()\n",
    "import tensorflow as tf\n",
    "from tensorflow import keras\n",
    "model=keras.Sequential([\n",
    "    keras.layers.Dense(256,input_shape=(8,),activation=\"relu\"),\n",
    "    keras.layers.Dense(1,activation='sigmoid')\n",
    "])\n",
    "model.compile(\n",
    "    optimizer=\"Adam\",\n",
    "    loss='mse',\n",
    "    metrics=[\"accuracy\"]\n",
    ")\n",
    "model.fit(x_train,y_train,epochs=75,validation_data=\n",
    "(x_val,y_val),callbacks=[history])\n"
   ]
  },
  {
   "cell_type": "code",
   "execution_count": 364,
   "id": "01b3af1f",
   "metadata": {},
   "outputs": [
    {
     "name": "stdout",
     "output_type": "stream",
     "text": [
      "237/237 [==============================] - 0s 860us/step - loss: 0.1429 - accuracy: 0.7898\n"
     ]
    }
   ],
   "source": [
    "test_loss = model.evaluate(x_test,y_test)"
   ]
  },
  {
   "cell_type": "code",
   "execution_count": 203,
   "id": "83e853ae",
   "metadata": {
    "slideshow": {
     "slide_type": "-"
    }
   },
   "outputs": [
    {
     "name": "stdout",
     "output_type": "stream",
     "text": [
      "[0.1427648961544037, 0.7920478582382202]\n"
     ]
    }
   ],
   "source": [
    "print(test_loss)"
   ]
  },
  {
   "cell_type": "code",
   "execution_count": 204,
   "id": "f9830871",
   "metadata": {},
   "outputs": [
    {
     "name": "stdout",
     "output_type": "stream",
     "text": [
      "[[ 0.16957381]\n",
      " [ 0.20102116]\n",
      " [ 0.07301464]\n",
      " ...\n",
      " [-0.07062325]\n",
      " [ 0.06150854]\n",
      " [ 0.15495338]]\n"
     ]
    }
   ],
   "source": [
    "y_pred=model.predict(x_test)\n",
    "print(y_pred)"
   ]
  },
  {
   "cell_type": "code",
   "execution_count": 205,
   "id": "9fd26a19",
   "metadata": {},
   "outputs": [],
   "source": [
    "y_pred_label=[np.argmax(i) for i in y_pred]"
   ]
  },
  {
   "cell_type": "code",
   "execution_count": 206,
   "id": "321153ee",
   "metadata": {},
   "outputs": [
    {
     "data": {
      "text/plain": [
       "<tf.Tensor: shape=(2, 2), dtype=int32, numpy=\n",
       "array([[4070,    3],\n",
       "       [1605,    6]])>"
      ]
     },
     "execution_count": 206,
     "metadata": {},
     "output_type": "execute_result"
    }
   ],
   "source": [
    "cm=tf.math.confusion_matrix(labels=y_test,predictions=y_pred)\n",
    "cm"
   ]
  },
  {
   "cell_type": "code",
   "execution_count": 207,
   "id": "c24b4d06",
   "metadata": {},
   "outputs": [
    {
     "data": {
      "text/plain": [
       "Text(69.0, 0.5, 'predicted')"
      ]
     },
     "execution_count": 207,
     "metadata": {},
     "output_type": "execute_result"
    },
    {
     "data": {
      "image/png": "[encoded data removed]",
      "text/plain": [
       "<Figure size 720x504 with 2 Axes>"
      ]
     },
     "metadata": {
      "needs_background": "light"
     },
     "output_type": "display_data"
    }
   ],
   "source": [
    "plot.figure(figsize=(10,7))\n",
    "sn.heatmap(cm,annot=True,fmt='d')\n",
    "plot.xlabel(\"Truth\")\n",
    "plot.ylabel(\"predicted\")"
   ]
  },
  {
   "cell_type": "code",
   "execution_count": 208,
   "id": "3ca787a2",
   "metadata": {},
   "outputs": [],
   "source": [
    "import sklearn.metrics as metrics\n",
    "# calculate the fpr and tpr for all thresholds of the classification\n",
    "probs = model.predict(x_test)\n",
    "preds = probs[:,-1]\n",
    "fpr, tpr, threshold = metrics.roc_curve(y_test, preds)\n",
    "roc_auc = metrics.auc(fpr, tpr)"
   ]
  },
  {
   "cell_type": "code",
   "execution_count": 209,
   "id": "6479381c",
   "metadata": {},
   "outputs": [
    {
     "data": {
      "image/png": "[encoded data removed]",
      "text/plain": [
       "<Figure size 432x288 with 1 Axes>"
      ]
     },
     "metadata": {
      "needs_background": "light"
     },
     "output_type": "display_data"
    }
   ],
   "source": [
    "\n",
    "plot.plot(fpr, tpr, 'b', label = 'AUC = %0.2f' % roc_auc)\n",
    "plot.legend(loc = 'lower right')\n",
    "plot.plot([0, 1], [0, 1],'r--')\n",
    "plot.xlim([0, 1])\n",
    "plot.ylim([0, 1])\n",
    "plot.ylabel('True Positive Rate')\n",
    "plot.xlabel('False Positive Rate')\n",
    "plot.show()"
   ]
  },
  {
   "cell_type": "code",
   "execution_count": 210,
   "id": "99bfbb53",
   "metadata": {},
   "outputs": [
    {
     "name": "stdout",
     "output_type": "stream",
     "text": [
      "Metric  loss : 0.14\n",
      "Metric  accuracy : 0.79\n"
     ]
    }
   ],
   "source": [
    "for i in range(len(model.metrics_names)):\n",
    "    print(\"Metric \",model.metrics_names[i],\":\",str(round(test_loss\n",
    "    [i],2)))"
   ]
  },
  {
   "cell_type": "code",
   "execution_count": 211,
   "id": "f0a292cf",
   "metadata": {},
   "outputs": [
    {
     "data": {
      "image/png": "[encoded data removed]",
      "text/plain": [
       "<Figure size 432x288 with 1 Axes>"
      ]
     },
     "metadata": {
      "needs_background": "light"
     },
     "output_type": "display_data"
    }
   ],
   "source": [
    "plot.plot(history.history['loss'])\n",
    "plot.plot(history.history['val_loss'])\n",
    "plot.title(\"Model's Training & Validation loss across epochs\")\n",
    "plot.ylabel('Loss')\n",
    "plot.xlabel('Epochs')\n",
    "plot.legend(['Train', 'Validation'], loc='upper right')\n",
    "plot.show()"
   ]
  },
  {
   "cell_type": "code",
   "execution_count": null,
   "id": "3eecbb8e",
   "metadata": {},
   "outputs": [],
   "source": []
  },
  {
   "cell_type": "code",
   "execution_count": null,
   "id": "9d82ddf9",
   "metadata": {},
   "outputs": [],
   "source": []
  },
  {
   "cell_type": "code",
   "execution_count": null,
   "id": "3f8645b8",
   "metadata": {},
   "outputs": [],
   "source": []
  },
  {
   "cell_type": "code",
   "execution_count": null,
   "id": "893f89e8",
   "metadata": {},
   "outputs": [],
   "source": []
  },
  {
   "cell_type": "code",
   "execution_count": null,
   "id": "b951d0d1",
   "metadata": {},
   "outputs": [],
   "source": []
  },
  {
   "cell_type": "code",
   "execution_count": null,
   "id": "07f462c5",
   "metadata": {},
   "outputs": [],
   "source": []
  },
  {
   "cell_type": "code",
   "execution_count": null,
   "id": "8697db59",
   "metadata": {},
   "outputs": [],
   "source": []
  },
  {
   "cell_type": "code",
   "execution_count": null,
   "id": "ecb58aec",
   "metadata": {},
   "outputs": [],
   "source": []
  },
  {
   "cell_type": "code",
   "execution_count": null,
   "id": "1d95361f",
   "metadata": {},
   "outputs": [],
   "source": []
  },
  {
   "cell_type": "code",
   "execution_count": null,
   "id": "efec83cd",
   "metadata": {},
   "outputs": [],
   "source": []
  }
 ],
 "metadata": {
  "celltoolbar": "Attachments",
  "kernelspec": {
   "display_name": "Python 3",
   "language": "python",
   "name": "python3"
  },
  "language_info": {
   "codemirror_mode": {
    "name": "ipython",
    "version": 3
   },
   "file_extension": ".py",
   "mimetype": "text/x-python",
   "name": "python",
   "nbconvert_exporter": "python",
   "pygments_lexer": "ipython3",
   "version": "3.8.8"
  }
 },
 "nbformat": 4,
 "nbformat_minor": 5
}
